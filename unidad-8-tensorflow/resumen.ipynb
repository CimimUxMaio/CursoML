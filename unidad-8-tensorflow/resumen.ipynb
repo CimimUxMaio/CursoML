{
 "cells": [
  {
   "cell_type": "markdown",
   "metadata": {},
   "source": [
    "# TensorFlow"
   ]
  },
  {
   "cell_type": "markdown",
   "metadata": {},
   "source": [
    "TensorFlow es una plataforma desarrollada por google que facilita el desarrollo y mantenimiento de modelos de ML.\n",
    "\n",
    "La arquitectura de TensorFlow tiene varios niveles de abstracción:\n",
    "- En su primer nivel, su base, está su codigo de base en C++, ue realizará la mayor parte de los calculos\n",
    "- Luego le sigue un nivel de de abstraccion que permite la invocacion del codigo C++ con python\n",
    "- Finalmente, la tercera capa esta compuesta por:\n",
    "    1. `Keras`: una biblioteca que permite el facil desarrollo de modelos de redes neuronales\n",
    "    2. `Estimator`: una biblioteca con multiples plantillas o componentes prefabricados que permiten construir facilmente modelos de ML"
   ]
  },
  {
   "cell_type": "markdown",
   "metadata": {},
   "source": [
    "### `TensorFlow` vs. `Sklearn`\n",
    "\n",
    "| TensorFlow | Sklearn |\n",
    "| ---------- | ------- |\n",
    "| Su base en C++ permite utilizar grandes sets de datos de forma eficiente <ul><li>Permite la utilizacion de las tarjetas graficas para el <br> computo / entrenamiento de los modelos</li></ul> | Set de datos relativamente pequeños |\n",
    "| Curva de aprendizaje alta | Curva de aprendizaje baja |\n",
    "| Desarrollada tanto para Python como para JavaScript | Biblioteca de Python |\n",
    "| Expone una mayor cantidad de parametros de configuracion para los modelos | <ul><li>Cantidad de entradas</li><li>Canitdad de capas ocultas</li><li>Cantidad de iteraciones</li></ul>|"
   ]
  },
  {
   "cell_type": "markdown",
   "metadata": {},
   "source": [
    "## Tensores"
   ]
  },
  {
   "cell_type": "markdown",
   "metadata": {},
   "source": [
    "Para trabajar con TensorFlow debemos utilizar \"Tensores\".\n",
    "\n",
    "Los tensores son arrays multidimensionales de un tipo uniforme de dato. Son muy parecidos a los arrays de NumPy, pero con la ventaja de que son mucho mas eficientes y son capaces de ser utilizados en la memoria de las targetas graficas."
   ]
  },
  {
   "cell_type": "code",
   "execution_count": 1,
   "metadata": {},
   "outputs": [],
   "source": [
    "import tensorflow as tf"
   ]
  },
  {
   "cell_type": "markdown",
   "metadata": {},
   "source": [
    "#### Constante"
   ]
  },
  {
   "cell_type": "markdown",
   "metadata": {},
   "source": [
    "Un tensor cuyo valor no cambia:"
   ]
  },
  {
   "cell_type": "code",
   "execution_count": 2,
   "metadata": {},
   "outputs": [
    {
     "name": "stdout",
     "output_type": "stream",
     "text": [
      "tf.Tensor([1. 2. 3.], shape=(3,), dtype=float32)\n"
     ]
    }
   ],
   "source": [
    "c = tf.constant([1, 2, 3], dtype=tf.float32, name='una_constante')\n",
    "print(c)"
   ]
  },
  {
   "cell_type": "markdown",
   "metadata": {},
   "source": [
    "- Lo definimos indicando:\n",
    "    - Su valor\n",
    "    - Su tipo de dato\n",
    "    - Su nombre (_opcional_)"
   ]
  },
  {
   "cell_type": "markdown",
   "metadata": {},
   "source": [
    "#### Variable"
   ]
  },
  {
   "cell_type": "markdown",
   "metadata": {},
   "source": [
    "Un tensor cuyo valor puede cambiar:"
   ]
  },
  {
   "cell_type": "code",
   "execution_count": 3,
   "metadata": {},
   "outputs": [
    {
     "name": "stdout",
     "output_type": "stream",
     "text": [
      "<tf.Variable 'una_variable:0' shape=() dtype=float32, numpy=3.0>\n"
     ]
    }
   ],
   "source": [
    "v = tf.Variable(3, dtype=tf.float32, name='una_variable')\n",
    "print(v)"
   ]
  },
  {
   "cell_type": "markdown",
   "metadata": {},
   "source": [
    "- Lo definimos utilizando los mismos parametros que para las constantes"
   ]
  },
  {
   "cell_type": "markdown",
   "metadata": {},
   "source": [
    "Podemos reasignar su valor con `assign()`:"
   ]
  },
  {
   "cell_type": "code",
   "execution_count": 4,
   "metadata": {},
   "outputs": [
    {
     "name": "stdout",
     "output_type": "stream",
     "text": [
      "<tf.Variable 'una_variable:0' shape=() dtype=float32, numpy=10.0>\n"
     ]
    }
   ],
   "source": [
    "v.assign(10)\n",
    "print(v)"
   ]
  },
  {
   "cell_type": "markdown",
   "metadata": {},
   "source": [
    "- El valor asignado debe ser del mismo tipo y forma (`shape`)"
   ]
  },
  {
   "cell_type": "markdown",
   "metadata": {},
   "source": [
    "#### Tensores y NumPy arrays"
   ]
  },
  {
   "cell_type": "markdown",
   "metadata": {},
   "source": [
    "Podemos convertir arrays de NumPy en tensores constantes utilizando `convert_to_tensor()`:"
   ]
  },
  {
   "cell_type": "code",
   "execution_count": 5,
   "metadata": {},
   "outputs": [
    {
     "name": "stdout",
     "output_type": "stream",
     "text": [
      "tf.Tensor([1 2 3], shape=(3,), dtype=int32)\n"
     ]
    }
   ],
   "source": [
    "import numpy as np\n",
    "\n",
    "array = np.array([1,2,3])\n",
    "tensor = tf.convert_to_tensor(array, tf.int32)\n",
    "print(tensor)"
   ]
  },
  {
   "cell_type": "markdown",
   "metadata": {},
   "source": [
    "- Debemos indicarle el tipo de dato a utilizar"
   ]
  },
  {
   "cell_type": "markdown",
   "metadata": {},
   "source": [
    "Esto funciona para arrays de cualquier forma y numero de dimensiones:"
   ]
  },
  {
   "cell_type": "code",
   "execution_count": 6,
   "metadata": {},
   "outputs": [
    {
     "name": "stdout",
     "output_type": "stream",
     "text": [
      "tf.Tensor(\n",
      "[[1 2 3 4]\n",
      " [5 6 7 8]], shape=(2, 4), dtype=int32)\n"
     ]
    }
   ],
   "source": [
    "array2D = np.array([\n",
    "    [1,2,3,4],\n",
    "    [5,6,7,8]\n",
    "])\n",
    "\n",
    "tensor2D = tf.convert_to_tensor(array2D, tf.int32)\n",
    "print(tensor2D)"
   ]
  },
  {
   "cell_type": "markdown",
   "metadata": {},
   "source": [
    "Luego tambien podemos convertir tensores en arrays de NumPy con `numpy()`:"
   ]
  },
  {
   "cell_type": "code",
   "execution_count": 7,
   "metadata": {},
   "outputs": [
    {
     "data": {
      "text/plain": [
       "array([[1, 2, 3, 4],\n",
       "       [5, 6, 7, 8]])"
      ]
     },
     "execution_count": 7,
     "metadata": {},
     "output_type": "execute_result"
    }
   ],
   "source": [
    "tensor2D.numpy()"
   ]
  },
  {
   "cell_type": "markdown",
   "metadata": {},
   "source": [
    "#### Matriz vacia"
   ]
  },
  {
   "cell_type": "markdown",
   "metadata": {},
   "source": [
    "Podemos construir matrices de ceros de cualquier forma sin necesidad de utilizar NumPy:"
   ]
  },
  {
   "cell_type": "code",
   "execution_count": 8,
   "metadata": {},
   "outputs": [
    {
     "name": "stdout",
     "output_type": "stream",
     "text": [
      "tf.Tensor(\n",
      "[[0 0 0 0 0]\n",
      " [0 0 0 0 0]\n",
      " [0 0 0 0 0]\n",
      " [0 0 0 0 0]\n",
      " [0 0 0 0 0]], shape=(5, 5), dtype=int32)\n"
     ]
    }
   ],
   "source": [
    "matrix0 = tf.zeros((5,5), tf.int32, name=\"matriz_ceros\")\n",
    "print(matrix0)"
   ]
  },
  {
   "cell_type": "markdown",
   "metadata": {},
   "source": [
    "- Indicamos la forma\n",
    "- y el tipo de dato"
   ]
  },
  {
   "cell_type": "markdown",
   "metadata": {},
   "source": [
    "#### Trabajando con tensores"
   ]
  },
  {
   "cell_type": "markdown",
   "metadata": {},
   "source": [
    "Desde la version 2.0 de TensorFlow podemos trabajar con los tensores commo lo hariamos con cualquier otro array de numpy.\n",
    "\n",
    "Anteriormente, para trabajar con tensores debiamos inicializarlos y ejecutarlos en el contexto de una `Session` utilizando su metodo `session.run()`."
   ]
  },
  {
   "cell_type": "code",
   "execution_count": 9,
   "metadata": {},
   "outputs": [
    {
     "name": "stdout",
     "output_type": "stream",
     "text": [
      "tf.Tensor(2, shape=(), dtype=int32)\n",
      "tf.Tensor([[1 2 3]], shape=(1, 3), dtype=int32)\n",
      "tf.Tensor(\n",
      "[[4]\n",
      " [5]\n",
      " [6]], shape=(3, 1), dtype=int32)\n",
      "\n",
      "Constant mult:\n",
      "t1 * t2 = [[2 4 6]]\n",
      "\n",
      "Constant division:\n",
      "t3 / t1 =\n",
      "[[2. ]\n",
      " [2.5]\n",
      " [3. ]]\n",
      "\n",
      "Matrix mult:\n",
      "t2 x t3 =\n",
      "[[32]]\n",
      "\n",
      "etc...\n"
     ]
    }
   ],
   "source": [
    "t1 = tf.constant(2, name=\"t1\")\n",
    "t2 = tf.constant([[1,2,3]], name=\"t2\")\n",
    "t3 = tf.constant([[4], [5], [6]], name=\"t3\")\n",
    "\n",
    "print(t1)\n",
    "print(t2)\n",
    "print(t3)\n",
    "print(\"\\nConstant mult:\")\n",
    "print(f\"t1 * t2 = {t1 * t2}\")\n",
    "print(\"\\nConstant division:\")\n",
    "print(f\"t3 / t1 =\\n{t3 / t1}\")\n",
    "print(\"\\nMatrix mult:\")\n",
    "print(f\"t2 x t3 =\\n{t2 @ t3}\")\n",
    "print(\"\\netc...\")"
   ]
  },
  {
   "cell_type": "markdown",
   "metadata": {},
   "source": [
    "<br>"
   ]
  },
  {
   "cell_type": "markdown",
   "metadata": {},
   "source": [
    "### Ejemplo de aplicación: *clasificacion de texto*"
   ]
  },
  {
   "cell_type": "markdown",
   "metadata": {},
   "source": [
    "En este ejemplo clasificaremos la reseñas de varias peliculas como positivas o negativas. Para ello tomaremos los datos del dataset `imdb` de `keras`."
   ]
  },
  {
   "cell_type": "code",
   "execution_count": 10,
   "metadata": {},
   "outputs": [
    {
     "name": "stderr",
     "output_type": "stream",
     "text": [
      "<__array_function__ internals>:5: VisibleDeprecationWarning: Creating an ndarray from ragged nested sequences (which is a list-or-tuple of lists-or-tuples-or ndarrays with different lengths or shapes) is deprecated. If you meant to do this, you must specify 'dtype=object' when creating the ndarray\n",
      "S:\\Anaconda\\lib\\site-packages\\tensorflow\\python\\keras\\datasets\\imdb.py:159: VisibleDeprecationWarning: Creating an ndarray from ragged nested sequences (which is a list-or-tuple of lists-or-tuples-or ndarrays with different lengths or shapes) is deprecated. If you meant to do this, you must specify 'dtype=object' when creating the ndarray\n",
      "  x_train, y_train = np.array(xs[:idx]), np.array(labels[:idx])\n",
      "S:\\Anaconda\\lib\\site-packages\\tensorflow\\python\\keras\\datasets\\imdb.py:160: VisibleDeprecationWarning: Creating an ndarray from ragged nested sequences (which is a list-or-tuple of lists-or-tuples-or ndarrays with different lengths or shapes) is deprecated. If you meant to do this, you must specify 'dtype=object' when creating the ndarray\n",
      "  x_test, y_test = np.array(xs[idx:]), np.array(labels[idx:])\n"
     ]
    }
   ],
   "source": [
    "from tensorflow import keras\n",
    "\n",
    "imdb = keras.datasets.imdb\n",
    "(train_data, train_target), (test_data, test_target) = imdb.load_data(num_words=10000)"
   ]
  },
  {
   "cell_type": "markdown",
   "metadata": {},
   "source": [
    "Los datos ya vienen pre-procesados de forma tal que cada reseña (secuencias de palabras) se han convertido en secuencias de numeros enteros que representan, cada uno, una palabra especifica dentro de un diccionario generado a partir del parametro `num_words` (el numero de palabras del diccionario).\n",
    "\n",
    "El diccionario mantiene las N palabras que aparecen con mayor frecuencia en los datos: Las palabras raras (poco frecuentes) fueron descartadas."
   ]
  },
  {
   "cell_type": "code",
   "execution_count": 11,
   "metadata": {},
   "outputs": [
    {
     "name": "stdout",
     "output_type": "stream",
     "text": [
      "Reseña 0:\n",
      "Primeros 10 indices: [1, 14, 22, 16, 43, 530, 973, 1622, 1385, 65]\n",
      "Indices totales: 218\n"
     ]
    }
   ],
   "source": [
    "print(\"Reseña 0:\")\n",
    "print(f\"Primeros 10 indices: {train_data[0][:10]}\")\n",
    "print(f\"Indices totales: {len(train_data[0])}\")"
   ]
  },
  {
   "cell_type": "markdown",
   "metadata": {},
   "source": [
    "Para convertir la secuencia de numeros enteros de nuevo a palabras utilizamos `get_word_index()`:"
   ]
  },
  {
   "cell_type": "code",
   "execution_count": 12,
   "metadata": {},
   "outputs": [],
   "source": [
    "word_index = { word: index+3 for word, index in imdb.get_word_index().items() }\n",
    "# Reservamos los primeros 3 indices para palabras especiales\n",
    "word_index[\"<PAD>\"] = 0\n",
    "word_index[\"<START>\"] = 1\n",
    "word_index[\"<UNK>\"] = 2 # unknown\n",
    "word_index[\"<UNUSED>\"] = 3\n",
    "\n",
    "reverse_word_index = { index: word for word, index in word_index.items() }\n",
    "\n",
    "def decode_review(review_indices):\n",
    "    return ' '.join([reverse_word_index[index] for index in review_indices])"
   ]
  },
  {
   "cell_type": "markdown",
   "metadata": {},
   "source": [
    "Por lo tanto para la reseña 0:"
   ]
  },
  {
   "cell_type": "code",
   "execution_count": 13,
   "metadata": {},
   "outputs": [
    {
     "data": {
      "text/plain": [
       "\"<START> this film was just brilliant casting location scenery story direction everyone's really suited the part they played and you could just imagine being there robert <UNK> is an amazing actor and now the same being director <UNK> father came from the same scottish island as myself so i loved the fact there was a real connection with this film the witty remarks throughout the film were great it was just brilliant so much that i bought the film as soon as it was released for <UNK> and would recommend it to everyone to watch and the fly fishing was amazing really cried at the end it was so sad and you know what they say if you cry at a film it must have been good and this definitely was also <UNK> to the two little boy's that played the <UNK> of norman and paul they were just brilliant children are often left out of the <UNK> list i think because the stars that play them all grown up are such a big profile for the whole film but these children are amazing and should be praised for what they have done don't you think the whole story was so lovely because it was true and was someone's life after all that was shared with us all\""
      ]
     },
     "execution_count": 13,
     "metadata": {},
     "output_type": "execute_result"
    }
   ],
   "source": [
    "decode_review(train_data[0])"
   ]
  },
  {
   "cell_type": "markdown",
   "metadata": {},
   "source": [
    "Ahora debemos convertir estas secuencias de enteros en tensores para poder alimentarlos a la red neuronal.\n",
    "\n",
    "Es importante notar que cada reseña tiene un tamaño distinto, por lo tanto, al mismo tiempo vamos a querer transformarlas para que todas tengan el mismo tamaño.\n",
    "- El input de nuestra red tiene que ser siempre del mismo tamaño\n",
    "\n",
    "Esto lo logramos utilizando `keras.preprocessing.sequence.pad_sequences()` que rellena con un determinado valor las secuencias de caracteres que tengan un tamaño menor al maximo dado, y truncan aquellas con un tamaño mayor."
   ]
  },
  {
   "cell_type": "code",
   "execution_count": 14,
   "metadata": {},
   "outputs": [
    {
     "data": {
      "text/plain": [
       "TensorShape([25000, 256])"
      ]
     },
     "execution_count": 14,
     "metadata": {},
     "output_type": "execute_result"
    }
   ],
   "source": [
    "from tensorflow.keras.preprocessing.sequence import pad_sequences\n",
    "\n",
    "def pad_data(data_array):\n",
    "    MAX_LEN = 256\n",
    "    padded_array = pad_sequences(data_array, value=word_index[\"<PAD>\"], maxlen=MAX_LEN, padding=\"post\")\n",
    "    return tf.convert_to_tensor(padded_array)\n",
    "\n",
    "padded_train_data = pad_data(train_data)\n",
    "padded_test_data = pad_data(test_data)\n",
    "\n",
    "padded_train_data.shape"
   ]
  },
  {
   "cell_type": "markdown",
   "metadata": {},
   "source": [
    "- 25000 reseñas de 256 palabras cada una\n",
    "- El parametro `maxlen`, en este caso, es un valor arbitrario que vamos a tomar para este ejemplo\n",
    "    - Vamos a utilizar reseñas de 256 palabras\n",
    "    - Si no se especifica, el valor por default es el de la frase / reseña más larga\n",
    "- El parametro `padding` indica si agregar el valor al principio o al final de vector\n",
    "    - Puede ser tanto \"post\" (al final) o \"pre\" (al principio), este es el default\n",
    "    - Analogamente existe un parametro `truncating` que indica que valores sobrantes truncar, los del principio o los del final\n",
    "        - Por default es \"pre\" y lo vamos a dejar así para este ejemplo"
   ]
  },
  {
   "cell_type": "markdown",
   "metadata": {},
   "source": [
    "Podemos ver el padding en la primer reseña:"
   ]
  },
  {
   "cell_type": "code",
   "execution_count": 15,
   "metadata": {},
   "outputs": [
    {
     "data": {
      "text/plain": [
       "<tf.Tensor: shape=(256,), dtype=int32, numpy=\n",
       "array([   1,   14,   22,   16,   43,  530,  973, 1622, 1385,   65,  458,\n",
       "       4468,   66, 3941,    4,  173,   36,  256,    5,   25,  100,   43,\n",
       "        838,  112,   50,  670,    2,    9,   35,  480,  284,    5,  150,\n",
       "          4,  172,  112,  167,    2,  336,  385,   39,    4,  172, 4536,\n",
       "       1111,   17,  546,   38,   13,  447,    4,  192,   50,   16,    6,\n",
       "        147, 2025,   19,   14,   22,    4, 1920, 4613,  469,    4,   22,\n",
       "         71,   87,   12,   16,   43,  530,   38,   76,   15,   13, 1247,\n",
       "          4,   22,   17,  515,   17,   12,   16,  626,   18,    2,    5,\n",
       "         62,  386,   12,    8,  316,    8,  106,    5,    4, 2223, 5244,\n",
       "         16,  480,   66, 3785,   33,    4,  130,   12,   16,   38,  619,\n",
       "          5,   25,  124,   51,   36,  135,   48,   25, 1415,   33,    6,\n",
       "         22,   12,  215,   28,   77,   52,    5,   14,  407,   16,   82,\n",
       "          2,    8,    4,  107,  117, 5952,   15,  256,    4,    2,    7,\n",
       "       3766,    5,  723,   36,   71,   43,  530,  476,   26,  400,  317,\n",
       "         46,    7,    4,    2, 1029,   13,  104,   88,    4,  381,   15,\n",
       "        297,   98,   32, 2071,   56,   26,  141,    6,  194, 7486,   18,\n",
       "          4,  226,   22,   21,  134,  476,   26,  480,    5,  144,   30,\n",
       "       5535,   18,   51,   36,   28,  224,   92,   25,  104,    4,  226,\n",
       "         65,   16,   38, 1334,   88,   12,   16,  283,    5,   16, 4472,\n",
       "        113,  103,   32,   15,   16, 5345,   19,  178,   32,    0,    0,\n",
       "          0,    0,    0,    0,    0,    0,    0,    0,    0,    0,    0,\n",
       "          0,    0,    0,    0,    0,    0,    0,    0,    0,    0,    0,\n",
       "          0,    0,    0,    0,    0,    0,    0,    0,    0,    0,    0,\n",
       "          0,    0,    0])>"
      ]
     },
     "execution_count": 15,
     "metadata": {},
     "output_type": "execute_result"
    }
   ],
   "source": [
    "padded_train_data[0]"
   ]
  },
  {
   "cell_type": "markdown",
   "metadata": {},
   "source": [
    "Ahora que tenemos los datos de entrada del modelo listos, podemos pensar en el diseño del modelo.\n",
    "\n",
    "Vamos a definir un modelo de red neuronal con las siguientes capas:\n",
    "1. Una capa de tipo `Embedding`\n",
    "2. Una capa de tipo `GlobalAveragePooling1D`\n",
    "3. Una capa de tipo `Dense` con 16 neuronas y activacion \"relu\"\n",
    "4. La capa de salida, de tipo `Dense` con una sola neurona (1 o 0, dos clasificaciones) y activacion \"sigmoid\" que retorna valores entre 0 y 1"
   ]
  },
  {
   "cell_type": "markdown",
   "metadata": {},
   "source": [
    "##### Capa de tipo `Embedding`"
   ]
  },
  {
   "cell_type": "markdown",
   "metadata": {},
   "source": [
    "Un problema que podemos encontrar cuando hacemos analisis de texto es ¿cómo hacer que nuestro modelo identifique palabras que tienen significados \"similares\"?\n",
    "\n",
    "Por ejemplo, si en nuestro diccionario tenemos que:\n",
    "```\n",
    "diccionario[\"bueno\"] == 4\n",
    "diccionario[\"excelente\"] == 22\n",
    "```\n",
    "Nosotros como personas podemos identificar que ambas palabras son similares, pero nuestros modelos las ven como 4 y 12, y no visualizan esta similitud.\n",
    "\n",
    "La capa de tipo `Embedding` transforma cada elemento del input (un numero que representa una palabra) en un vector positivo de N dimensiones.\n",
    "\n",
    "Recibe como parametro la cantidad de palabras del vocabulario utilizado (cantidad de palabras posibles) y genera un numero de pesos igual a la dimension a transformar por el tamaño del vocabulario.\n",
    "- De esta forma genera internamente una tabla donde cada palabra posible tendrá asociada un vector de N dimensiones dado por N de los pesos de la capa\n",
    "- Por ejemplo, para un vocabulario de tamaño 4 y transformando las palabras a vectores de 2 dimensiones se obtiene:\n",
    "| vocabulario | embedding |\n",
    "| :---------: | :-------: |\n",
    "| 0 | \\[w1, w2\\] |\n",
    "| 1 | \\[w3, w4\\] |\n",
    "| 2 | \\[w5, w6\\] |\n",
    "| 3 | \\[w7, w8\\] |\n",
    "\n",
    "Con estos nuevos parametros, se logra que, una vez optimizados, la codificacion de palabras con significados \"similares\" sea parecida.\n",
    "\n",
    "_[Excelente post sobre como funciona la capa **Embedding**](https://stats.stackexchange.com/questions/270546/how-does-keras-embedding-layer-work)_"
   ]
  },
  {
   "cell_type": "markdown",
   "metadata": {},
   "source": [
    "##### Capa de tipo `GlobalAveragePooling1D`"
   ]
  },
  {
   "cell_type": "markdown",
   "metadata": {},
   "source": [
    "Las capas de tipo `Pooling` reducen el numero de dimensiones del output de la capa anterior procurando mantener la informacion del mismo. Estas capas no agregan nuevos parametros para optimizar, ya que existen multiples estrategias predifinidas, como `Max` y `Average`, que se utilizan para conseguir este resultado.\n",
    "\n",
    "En particular `GlobalAveragePooling1D` convierte un output de 2 dimensiones a un vector de 1 dimensión calculando el promedio de cada vector que representa una palabra.\n",
    "- Ej si lo que recibe es `[[1,1], [1, 3], ..., [5, 3]]` lo convertirá en `[1, 2, ..., 4]`"
   ]
  },
  {
   "cell_type": "markdown",
   "metadata": {},
   "source": [
    "Por lo tanto, las capas de `Encoding` y `Pooling` se encargan de procesar nuevamente nuestro diccionario generando una nueva codificación que contemplará una mayor cantidad de informacion como la similitud de significados entre palabras."
   ]
  },
  {
   "cell_type": "markdown",
   "metadata": {},
   "source": [
    "Finalmente podemos contruir el modelo de la siguiente manera:"
   ]
  },
  {
   "cell_type": "code",
   "execution_count": 16,
   "metadata": {},
   "outputs": [
    {
     "name": "stdout",
     "output_type": "stream",
     "text": [
      "Model: \"sequential\"\n",
      "_________________________________________________________________\n",
      "Layer (type)                 Output Shape              Param #   \n",
      "=================================================================\n",
      "embedding (Embedding)        (None, None, 16)          1417408   \n",
      "_________________________________________________________________\n",
      "global_average_pooling1d (Gl (None, 16)                0         \n",
      "_________________________________________________________________\n",
      "dense (Dense)                (None, 16)                272       \n",
      "_________________________________________________________________\n",
      "dense_1 (Dense)              (None, 1)                 17        \n",
      "=================================================================\n",
      "Total params: 1,417,697\n",
      "Trainable params: 1,417,697\n",
      "Non-trainable params: 0\n",
      "_________________________________________________________________\n"
     ]
    }
   ],
   "source": [
    "vocabulary_size = len(word_index)\n",
    "\n",
    "model = keras.Sequential()\n",
    "model.add(keras.layers.Embedding(vocabulary_size, 16))  # Codificamos las palabras con vectores de 16 dimenciones\n",
    "model.add(keras.layers.GlobalAveragePooling1D())\n",
    "model.add(keras.layers.Dense(16, activation=\"relu\"))\n",
    "model.add(keras.layers.Dense(1, activation=\"sigmoid\"))\n",
    "\n",
    "model.summary()"
   ]
  },
  {
   "cell_type": "markdown",
   "metadata": {},
   "source": [
    "- Observese en qué etapa estan enfocados la mayor parte de los parametros a optimizar"
   ]
  },
  {
   "cell_type": "markdown",
   "metadata": {},
   "source": [
    "Compilamos el modelo:"
   ]
  },
  {
   "cell_type": "code",
   "execution_count": 17,
   "metadata": {},
   "outputs": [],
   "source": [
    "model.compile(optimizer=\"adam\", loss=\"binary_crossentropy\", metrics=[\"acc\"])"
   ]
  },
  {
   "cell_type": "markdown",
   "metadata": {},
   "source": [
    "Podemos crear un conjunto de validación a partir del conjunto de entrenamiento. \n",
    "\n",
    "El conjunto de validacion es un conjunto de datos que no se utilizaran para entrenar el modelo. Difiere del conjunto de pruebas en que el primero se utiliza **durante** el entrenamiento para ir teniendo, con cada iteracion, una evaluación imparcial de la eficacia de nuestro modelo."
   ]
  },
  {
   "cell_type": "code",
   "execution_count": 18,
   "metadata": {},
   "outputs": [
    {
     "name": "stdout",
     "output_type": "stream",
     "text": [
      "15000 15000\n"
     ]
    }
   ],
   "source": [
    "validation_data = padded_train_data[:10000]\n",
    "validation_target = train_target[:10000]\n",
    "\n",
    "final_train_data = padded_train_data[10000:]\n",
    "final_train_target = train_target[10000:]\n",
    "                                  \n",
    "print(len(final_train_data), len(final_train_target))"
   ]
  },
  {
   "cell_type": "markdown",
   "metadata": {},
   "source": [
    "Ahora si podemos entrenar nuestro modelo utilizando el parametro `validation_data` para indicar nuestro conjunto de validacion:"
   ]
  },
  {
   "cell_type": "code",
   "execution_count": 19,
   "metadata": {},
   "outputs": [
    {
     "name": "stdout",
     "output_type": "stream",
     "text": [
      "Listo!\n"
     ]
    }
   ],
   "source": [
    "history = model.fit(\n",
    "    final_train_data, \n",
    "    final_train_target, \n",
    "    epochs=40, \n",
    "    batch_size=512, \n",
    "    validation_data=(validation_data, validation_target), \n",
    "    verbose=0  # No queremos que escriba nada ya que ocuparia toda la pantalla (40 epochs)\n",
    ")\n",
    "\n",
    "print(\"Listo!\")"
   ]
  },
  {
   "cell_type": "markdown",
   "metadata": {},
   "source": [
    "- `batch_size`: en cada iteracion (epoch) el modelo no necesariamente debe iterar sobre todos los datos de entrenamiento. Podemos hace que utilice, cada vez, un subconjunto random de tamaño reducido para asi hacer mas rapido el entrenamiento. El *batch size*, entonces, es el tamaño que se va a utilizar para dichos subconjuntos"
   ]
  },
  {
   "cell_type": "markdown",
   "metadata": {},
   "source": [
    "Como definimos el parametro `verbose` en 0, no podemos ver el progreso del modelo con cada iteración. Pero el metodo `fit()` retorna un objeto de tipo `History` que contiene un diccionario con los valores de las metricas en cada iteracion del entrenamiento."
   ]
  },
  {
   "cell_type": "code",
   "execution_count": 20,
   "metadata": {},
   "outputs": [
    {
     "data": {
      "text/plain": [
       "dict_keys(['loss', 'acc', 'val_loss', 'val_acc'])"
      ]
     },
     "execution_count": 20,
     "metadata": {},
     "output_type": "execute_result"
    }
   ],
   "source": [
    "history.history.keys()"
   ]
  },
  {
   "cell_type": "markdown",
   "metadata": {},
   "source": [
    "Gracias a esto, podemos obtener una representacion visual de la evolución:"
   ]
  },
  {
   "cell_type": "code",
   "execution_count": 23,
   "metadata": {},
   "outputs": [
    {
     "data": {
      "image/png": "[encoded data removed]",
      "text/plain": [
       "<Figure size 432x288 with 1 Axes>"
      ]
     },
     "metadata": {
      "needs_background": "light"
     },
     "output_type": "display_data"
    }
   ],
   "source": [
    "import matplotlib.pyplot as plt\n",
    "\n",
    "history_dict = history.history\n",
    "\n",
    "n_epochs = len(history_dict[\"acc\"])\n",
    "epochs = np.arange(1, n_epochs+1)\n",
    "\n",
    "# Graficamos las metricas del conjunto de entrenamiento\n",
    "plt.plot(epochs, history_dict[\"acc\"], \"b\", label=\"entrenamiento\")\n",
    "\n",
    "# Graficamos las metricas del conjunto de validacion\n",
    "plt.plot(epochs, history_dict[\"val_acc\"], label=\"validacion\")\n",
    "\n",
    "plt.title(\"Precision de entrenamiento y validacion\")\n",
    "plt.xlabel(\"Iteraciones\")\n",
    "plt.ylabel(\"Precision\")\n",
    "plt.legend()\n",
    "plt.show()"
   ]
  },
  {
   "cell_type": "markdown",
   "metadata": {},
   "source": [
    "Finalmente probamos la precision de nuestro modelo utilizando el conjunto de prueba:"
   ]
  },
  {
   "cell_type": "code",
   "execution_count": 22,
   "metadata": {},
   "outputs": [
    {
     "name": "stdout",
     "output_type": "stream",
     "text": [
      "782/782 [==============================] - 1s 682us/step - loss: 0.3284 - acc: 0.8713\n",
      "Precisión: 87.13%\n"
     ]
    }
   ],
   "source": [
    "results = model.evaluate(padded_test_data, test_target)\n",
    "print(f\"Precisión: {round(results[1]*100, 2)}%\")"
   ]
  }
 ],
 "metadata": {
  "kernelspec": {
   "display_name": "Python 3",
   "language": "python",
   "name": "python3"
  },
  "language_info": {
   "codemirror_mode": {
    "name": "ipython",
    "version": 3
   },
   "file_extension": ".py",
   "mimetype": "text/x-python",
   "name": "python",
   "nbconvert_exporter": "python",
   "pygments_lexer": "ipython3",
   "version": "3.8.5"
  }
 },
 "nbformat": 4,
 "nbformat_minor": 4
}
