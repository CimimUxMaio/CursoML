{
 "cells": [
  {
   "cell_type": "markdown",
   "metadata": {},
   "source": [
    "# **Unidad 2:** Adquisicion de datos (_Pandas_)"
   ]
  },
  {
   "cell_type": "code",
   "execution_count": 1,
   "metadata": {},
   "outputs": [],
   "source": [
    "import pandas as pd"
   ]
  },
  {
   "cell_type": "markdown",
   "metadata": {},
   "source": [
    "## **CSV**"
   ]
  },
  {
   "cell_type": "markdown",
   "metadata": {},
   "source": [
    "### read_csv"
   ]
  },
  {
   "cell_type": "code",
   "execution_count": 2,
   "metadata": {},
   "outputs": [
    {
     "name": "stdout",
     "output_type": "stream",
     "text": [
      "   id   nombre sexo\n",
      "0   1     Juan    m\n",
      "1   2    Pedro    m\n",
      "2   3     Anna    f\n",
      "3   4  Julieta    f\n",
      "4   5    Pablo    m\n",
      "5   6    Ramón    m\n",
      "6   7     Gaby    f\n"
     ]
    }
   ],
   "source": [
    "data = pd.read_csv(\"examples/csv_example.csv\")\n",
    "print(data)"
   ]
  },
  {
   "cell_type": "markdown",
   "metadata": {},
   "source": [
    "Podemos ver que Pandas le asigna un un indice numerico predeterminado a cada uno de los registros cargados de nuestro archivo.\n",
    "Podemos asignar nuestro propio indice pasandole a la funcion el nombre de la columna que deseamos utilizar para ese fin:"
   ]
  },
  {
   "cell_type": "code",
   "execution_count": 3,
   "metadata": {},
   "outputs": [
    {
     "name": "stdout",
     "output_type": "stream",
     "text": [
      "     nombre sexo\n",
      "id              \n",
      "1      Juan    m\n",
      "2     Pedro    m\n",
      "3      Anna    f\n",
      "4   Julieta    f\n",
      "5     Pablo    m\n",
      "6     Ramón    m\n",
      "7      Gaby    f\n"
     ]
    }
   ],
   "source": [
    "pretty_data = pd.read_csv(\"examples/csv_example.csv\", index_col=\"id\")\n",
    "print(pretty_data)"
   ]
  },
  {
   "cell_type": "markdown",
   "metadata": {},
   "source": [
    "Si no necesitamos utilizar todas las columnas del archivo, podemos especificarle a Pandas aquellas que si nos interesan."
   ]
  },
  {
   "cell_type": "code",
   "execution_count": 4,
   "metadata": {},
   "outputs": [
    {
     "name": "stdout",
     "output_type": "stream",
     "text": [
      "   id   nombre\n",
      "0   1     Juan\n",
      "1   2    Pedro\n",
      "2   3     Anna\n",
      "3   4  Julieta\n",
      "4   5    Pablo\n",
      "5   6    Ramón\n",
      "6   7     Gaby\n"
     ]
    }
   ],
   "source": [
    "data = pd.read_csv(\"examples/csv_example.csv\", usecols=[\"id\", \"nombre\"])\n",
    "print(data)"
   ]
  },
  {
   "cell_type": "markdown",
   "metadata": {},
   "source": [
    "Otro parametro importante es `skiprows`, que sirve para indicar el conjunto de filas que no nos va a interesar traer del archivo."
   ]
  },
  {
   "cell_type": "code",
   "execution_count": 5,
   "metadata": {},
   "outputs": [
    {
     "name": "stdout",
     "output_type": "stream",
     "text": [
      "   id   nombre sexo\n",
      "0   2    Pedro    m\n",
      "1   3     Anna    f\n",
      "2   4  Julieta    f\n",
      "3   6    Ramón    m\n",
      "4   7     Gaby    f\n"
     ]
    }
   ],
   "source": [
    "data = pd.read_csv(\"examples/csv_example.csv\", skiprows=[1,5])\n",
    "print(data)"
   ]
  },
  {
   "cell_type": "markdown",
   "metadata": {},
   "source": [
    "- Adicionalmente existe el parametro `skip_blank_lines` que permite eliminar aquellas filas que en el archivo estan en blanco."
   ]
  },
  {
   "cell_type": "markdown",
   "metadata": {},
   "source": [
    "Finalmente, el parametro `nrows` nos permite elegir el numero de filas/registros que deseamos cargar del archivo."
   ]
  },
  {
   "cell_type": "code",
   "execution_count": 6,
   "metadata": {},
   "outputs": [
    {
     "name": "stdout",
     "output_type": "stream",
     "text": [
      "   id nombre sexo\n",
      "0   1   Juan    m\n",
      "1   2  Pedro    m\n",
      "2   3   Anna    f\n"
     ]
    }
   ],
   "source": [
    "data = pd.read_csv(\"examples/csv_example.csv\", nrows=3)\n",
    "print(data)"
   ]
  },
  {
   "cell_type": "markdown",
   "metadata": {},
   "source": [
    "### head"
   ]
  },
  {
   "cell_type": "markdown",
   "metadata": {},
   "source": [
    "Cuando utilizamos archivos muy grandes y queramos tener una vista rapida de los datos, probablemente no querramos imprimirlos en su totalidad. Para ello usamos el metodo `head`, que por defecto retorna unicamente los primeros 5 registros."
   ]
  },
  {
   "cell_type": "code",
   "execution_count": 7,
   "metadata": {},
   "outputs": [
    {
     "name": "stdout",
     "output_type": "stream",
     "text": [
      "     nombre sexo\n",
      "id              \n",
      "1      Juan    m\n",
      "2     Pedro    m\n",
      "3      Anna    f\n",
      "4   Julieta    f\n",
      "5     Pablo    m\n"
     ]
    }
   ],
   "source": [
    "print(pretty_data.head())"
   ]
  },
  {
   "cell_type": "markdown",
   "metadata": {},
   "source": [
    "Pero tambien podemos pasarle como argumento la cantidad de registros que queremos obtener."
   ]
  },
  {
   "cell_type": "code",
   "execution_count": 8,
   "metadata": {},
   "outputs": [
    {
     "name": "stdout",
     "output_type": "stream",
     "text": [
      "   nombre sexo\n",
      "id            \n",
      "1    Juan    m\n",
      "2   Pedro    m\n"
     ]
    }
   ],
   "source": [
    "print(pretty_data.head(2))"
   ]
  },
  {
   "cell_type": "markdown",
   "metadata": {},
   "source": [
    "### query"
   ]
  },
  {
   "cell_type": "markdown",
   "metadata": {},
   "source": [
    "Una alternativa a `head` es el metodo `query` que nos permite filtrar facilmente los registros que queremos obtener."
   ]
  },
  {
   "cell_type": "code",
   "execution_count": 9,
   "metadata": {},
   "outputs": [
    {
     "name": "stdout",
     "output_type": "stream",
     "text": [
      "     nombre sexo\n",
      "id              \n",
      "3      Anna    f\n",
      "4   Julieta    f\n"
     ]
    }
   ],
   "source": [
    "print(pretty_data.query(\"2 < id < 5\"))"
   ]
  },
  {
   "cell_type": "code",
   "execution_count": 10,
   "metadata": {},
   "outputs": [
    {
     "name": "stdout",
     "output_type": "stream",
     "text": [
      "   nombre sexo\n",
      "id            \n",
      "1    Juan    m\n",
      "2   Pedro    m\n",
      "5   Pablo    m\n",
      "6   Ramón    m\n"
     ]
    }
   ],
   "source": [
    "print(pretty_data.query(\"sexo == 'm'\"))"
   ]
  },
  {
   "cell_type": "markdown",
   "metadata": {},
   "source": [
    "- Notesen las ' (comillas) para indicar que el valor a lo que equivale es un caracter"
   ]
  },
  {
   "cell_type": "markdown",
   "metadata": {},
   "source": [
    "### Acceder a los datos"
   ]
  },
  {
   "cell_type": "markdown",
   "metadata": {},
   "source": [
    "Podemos acceder a los valores de una columna indicando la propiedad con el mismo nombre."
   ]
  },
  {
   "cell_type": "code",
   "execution_count": 11,
   "metadata": {},
   "outputs": [
    {
     "name": "stdout",
     "output_type": "stream",
     "text": [
      "id\n",
      "1       Juan\n",
      "2      Pedro\n",
      "3       Anna\n",
      "4    Julieta\n",
      "5      Pablo\n",
      "6      Ramón\n",
      "7       Gaby\n",
      "Name: nombre, dtype: object\n"
     ]
    }
   ],
   "source": [
    "nombres = pretty_data.nombre  ## que es equivalente a pretty_data[\"nombre\"]\n",
    "print(nombres)"
   ]
  },
  {
   "cell_type": "markdown",
   "metadata": {},
   "source": [
    "Tambien podemos indicar un conjunto de columnas que nos interesan utilizando una lista de ellas como indice."
   ]
  },
  {
   "cell_type": "code",
   "execution_count": 12,
   "metadata": {},
   "outputs": [
    {
     "name": "stdout",
     "output_type": "stream",
     "text": [
      "     nombre sexo\n",
      "id              \n",
      "1      Juan    m\n",
      "2     Pedro    m\n",
      "3      Anna    f\n",
      "4   Julieta    f\n",
      "5     Pablo    m\n",
      "6     Ramón    m\n",
      "7      Gaby    f\n"
     ]
    }
   ],
   "source": [
    "data = pretty_data[[\"nombre\", \"sexo\"]]\n",
    "print(data)"
   ]
  },
  {
   "cell_type": "markdown",
   "metadata": {},
   "source": [
    "Por ultimo, tambien podemos loopear sobre los datos."
   ]
  },
  {
   "cell_type": "code",
   "execution_count": 13,
   "metadata": {},
   "outputs": [
    {
     "name": "stdout",
     "output_type": "stream",
     "text": [
      "Juan\n",
      "Pedro\n",
      "Anna\n",
      "Julieta\n",
      "Pablo\n",
      "Ramón\n",
      "Gaby\n"
     ]
    }
   ],
   "source": [
    "for nombre in pretty_data.nombre:\n",
    "    print(nombre)"
   ]
  },
  {
   "cell_type": "markdown",
   "metadata": {},
   "source": [
    "<br>"
   ]
  },
  {
   "cell_type": "markdown",
   "metadata": {},
   "source": [
    "## Excel"
   ]
  },
  {
   "cell_type": "markdown",
   "metadata": {},
   "source": [
    "### read_excel"
   ]
  },
  {
   "cell_type": "markdown",
   "metadata": {},
   "source": [
    "De forma analoga a `read_csv` podemos usar `read_excel`, donde el parametro *`sheetname`* nos permite seleccionar el número de hoja, las cuales se comienzan a numerar desde cero."
   ]
  },
  {
   "cell_type": "code",
   "execution_count": 14,
   "metadata": {},
   "outputs": [
    {
     "name": "stdout",
     "output_type": "stream",
     "text": [
      "   id   nombre sexo\n",
      "0   1     Juan    m\n",
      "1   2    Pedro    m\n",
      "2   3     Anna    f\n",
      "3   4  Julieta    f\n",
      "4   5    Pablo    m\n",
      "5   6    Ramón    m\n",
      "6   7     Gaby    f\n"
     ]
    }
   ],
   "source": [
    "data = pd.read_excel(\"examples/excel_example.xlsx\")\n",
    "print(data)"
   ]
  },
  {
   "cell_type": "markdown",
   "metadata": {},
   "source": [
    "<br>"
   ]
  },
  {
   "cell_type": "markdown",
   "metadata": {},
   "source": [
    "### JSON"
   ]
  },
  {
   "cell_type": "markdown",
   "metadata": {},
   "source": [
    "### read_json"
   ]
  },
  {
   "cell_type": "code",
   "execution_count": 15,
   "metadata": {},
   "outputs": [
    {
     "name": "stdout",
     "output_type": "stream",
     "text": [
      "   id   nombre sexo\n",
      "0   1     Juan    m\n",
      "1   2    Pedro    m\n",
      "2   3     Anna    f\n",
      "3   4  Julieta    f\n",
      "4   5    Pablo    m\n",
      "5   6    Ramón    m\n",
      "6   7     Gaby    f\n"
     ]
    }
   ],
   "source": [
    "data = pd.read_json(\"examples/json_example.json\")\n",
    "print(data)"
   ]
  },
  {
   "cell_type": "markdown",
   "metadata": {},
   "source": [
    "<br>"
   ]
  },
  {
   "cell_type": "markdown",
   "metadata": {},
   "source": [
    "### HTML"
   ]
  },
  {
   "cell_type": "markdown",
   "metadata": {},
   "source": [
    "#### read_html"
   ]
  },
  {
   "cell_type": "markdown",
   "metadata": {},
   "source": [
    "Con pandas tambien podemos cargar los datos a partir de HTML; para ellos los datos deben estar incluidos dentro de una tabla:"
   ]
  },
  {
   "cell_type": "markdown",
   "metadata": {},
   "source": [
    "```\n",
    "<table>\n",
    "  <tr>\n",
    "    <th>id</th>\n",
    "    <th>nombre</th>\n",
    "    <th>sexo</th>\n",
    "  </tr>\n",
    "  <tr>\n",
    "    <td>1</td>\n",
    "    <td>Juan</td>\n",
    "    <td>m</td>\n",
    "  </tr>\n",
    "  <tr>\n",
    "    <td>2</td>\n",
    "    <td>Pedro</td>\n",
    "    <td>m</td>\n",
    "  </tr>\n",
    "  ...\n",
    "</table>\n",
    "```"
   ]
  },
  {
   "cell_type": "markdown",
   "metadata": {},
   "source": [
    "<br>"
   ]
  },
  {
   "cell_type": "code",
   "execution_count": 16,
   "metadata": {},
   "outputs": [
    {
     "name": "stdout",
     "output_type": "stream",
     "text": [
      "[   id   nombre sexo\n",
      "0   1     Juan    m\n",
      "1   2    Pedro    m\n",
      "2   3     Anna    f\n",
      "3   4  Julieta    f\n",
      "4   5    Pablo    m\n",
      "5   6   RamÃ³n    m\n",
      "6   7     Gaby    f]\n"
     ]
    }
   ],
   "source": [
    "data = pd.read_html(\"examples/html_example.html\")\n",
    "print(data)"
   ]
  },
  {
   "cell_type": "markdown",
   "metadata": {},
   "source": [
    "- Notese que en este caso el objeto que nos devuelve la funcion es una lista de `DataFrames` (o filas)"
   ]
  },
  {
   "cell_type": "code",
   "execution_count": 17,
   "metadata": {},
   "outputs": [
    {
     "name": "stdout",
     "output_type": "stream",
     "text": [
      "   id   nombre sexo\n",
      "0   1     Juan    m\n",
      "1   2    Pedro    m\n",
      "2   3     Anna    f\n",
      "3   4  Julieta    f\n",
      "4   5    Pablo    m\n",
      "5   6   RamÃ³n    m\n",
      "6   7     Gaby    f\n"
     ]
    }
   ],
   "source": [
    "for r in data:\n",
    "    print(r)"
   ]
  },
  {
   "cell_type": "markdown",
   "metadata": {},
   "source": [
    "- Podemos concatenerlas a un unico `DataFrame` utilizando la funcion: `concat`"
   ]
  },
  {
   "cell_type": "code",
   "execution_count": 18,
   "metadata": {},
   "outputs": [
    {
     "name": "stdout",
     "output_type": "stream",
     "text": [
      "   id   nombre sexo\n",
      "0   1     Juan    m\n",
      "1   2    Pedro    m\n",
      "2   3     Anna    f\n",
      "3   4  Julieta    f\n",
      "4   5    Pablo    m\n",
      "5   6   RamÃ³n    m\n",
      "6   7     Gaby    f\n"
     ]
    }
   ],
   "source": [
    "unico_df = pd.concat(data)\n",
    "print(unico_df)"
   ]
  },
  {
   "cell_type": "markdown",
   "metadata": {},
   "source": [
    "<br>"
   ]
  },
  {
   "cell_type": "markdown",
   "metadata": {},
   "source": [
    "### XML"
   ]
  },
  {
   "cell_type": "markdown",
   "metadata": {},
   "source": [
    "Cargar archivos XML es un poco mas complejo. Para ello necesitamos utilizar, tambien, una biblioteca para poder parsearlo correctamente."
   ]
  },
  {
   "cell_type": "code",
   "execution_count": 19,
   "metadata": {},
   "outputs": [],
   "source": [
    "import xml.etree.cElementTree as ET\n",
    "data_tree = ET.parse(\"examples/xml_example.xml\")"
   ]
  },
  {
   "cell_type": "markdown",
   "metadata": {},
   "source": [
    "El objeto obtenido (_parsed_xml_) es de tipo `ElementTree`, luego podemos utilizar su metodo `iter()` para poder iterar sobre los elementos con un determinado tag."
   ]
  },
  {
   "cell_type": "markdown",
   "metadata": {},
   "source": [
    "Luego, podemos generar el DataFrame de pandas de la siguiente manera:"
   ]
  },
  {
   "cell_type": "code",
   "execution_count": 20,
   "metadata": {},
   "outputs": [
    {
     "name": "stdout",
     "output_type": "stream",
     "text": [
      "  id   nombre sexo\n",
      "0  1     Juan    m\n",
      "1  2    Pedro    m\n",
      "2  3     Anna    f\n",
      "3  4  Julieta    f\n",
      "4  5    Pablo    m\n",
      "5  6    Roman    m\n",
      "6  7     Gaby    f\n"
     ]
    }
   ],
   "source": [
    "def text_or_none(node):\n",
    "    return node.text if node is not None else None\n",
    "\n",
    "clientes = []\n",
    "for node in data_tree.iter(tag=\"cliente\"):\n",
    "    cliente = {\n",
    "        \"id\": node.attrib[\"id\"], # Ejemplo de como obtener un atributo del tag\n",
    "        \"nombre\": text_or_none(node.find(\"nombre\")), # Ejemplo de como obtener un nodo hijo de un tag\n",
    "        \"sexo\": text_or_none(node.find(\"sexo\"))\n",
    "    }\n",
    "    clientes.append(cliente)\n",
    "    \n",
    "data = pd.DataFrame(clientes)\n",
    "print(data)"
   ]
  },
  {
   "cell_type": "markdown",
   "metadata": {},
   "source": [
    "- Para mas informacion acerca de `ElementTree` podemos ver la documentacion oficial: [ElementTree Docs](https://docs.python.org/3/library/xml.etree.elementtree.html)"
   ]
  },
  {
   "cell_type": "markdown",
   "metadata": {},
   "source": [
    "- Como dato de color, podemos asignarle al `DataFrame` una columna especifica como indice utilizando `set_index`:"
   ]
  },
  {
   "cell_type": "code",
   "execution_count": 21,
   "metadata": {},
   "outputs": [
    {
     "name": "stdout",
     "output_type": "stream",
     "text": [
      "     nombre sexo\n",
      "id              \n",
      "1      Juan    m\n",
      "2     Pedro    m\n",
      "3      Anna    f\n",
      "4   Julieta    f\n",
      "5     Pablo    m\n",
      "6     Roman    m\n",
      "7      Gaby    f\n"
     ]
    }
   ],
   "source": [
    "print(data.set_index(\"id\"))"
   ]
  },
  {
   "cell_type": "markdown",
   "metadata": {},
   "source": [
    "<br>"
   ]
  },
  {
   "cell_type": "markdown",
   "metadata": {},
   "source": [
    "### SQLite"
   ]
  },
  {
   "cell_type": "markdown",
   "metadata": {},
   "source": [
    "Para ello primero debemos generar una coneccion con la base de datos usando el modulo `sqlite3`."
   ]
  },
  {
   "cell_type": "code",
   "execution_count": 22,
   "metadata": {},
   "outputs": [],
   "source": [
    "import sqlite3\n",
    "connection = sqlite3.connect(\"examples/sqlite_example.db\")"
   ]
  },
  {
   "cell_type": "markdown",
   "metadata": {},
   "source": [
    "Luego utilizamos la funcion `read_sql_query` de _Pandas_ que nos permite generar un `DataFrame` a partir del resultado de una consulta SQL."
   ]
  },
  {
   "cell_type": "code",
   "execution_count": 23,
   "metadata": {},
   "outputs": [
    {
     "name": "stdout",
     "output_type": "stream",
     "text": [
      "     nombre sexo\n",
      "id              \n",
      "1      Juan    m\n",
      "2     Pedro    m\n",
      "3      Anna    f\n",
      "4   Julieta    f\n",
      "5     Pablo    m\n",
      "6     Roman    m\n",
      "7      Gaby    f\n"
     ]
    }
   ],
   "source": [
    "data = pd.read_sql_query(\"SELECT * FROM CLIENTES\", connection)\n",
    "print(data.set_index(\"id\"))"
   ]
  },
  {
   "cell_type": "markdown",
   "metadata": {},
   "source": [
    "<br>"
   ]
  },
  {
   "cell_type": "markdown",
   "metadata": {},
   "source": [
    "<br>"
   ]
  },
  {
   "cell_type": "markdown",
   "metadata": {},
   "source": [
    "**_Estos son solo unas pocas de las funcionalidades que nos ofrece Pandas para trabajar con datos. Para conocer sobre más metodos utiles podemos utilizar la documentacion oficial de la biblioteca: [Pandas Docs](https://pandas.pydata.org/docs/index.html)_**"
   ]
  }
 ],
 "metadata": {
  "kernelspec": {
   "display_name": "Python 3",
   "language": "python",
   "name": "python3"
  },
  "language_info": {
   "codemirror_mode": {
    "name": "ipython",
    "version": 3
   },
   "file_extension": ".py",
   "mimetype": "text/x-python",
   "name": "python",
   "nbconvert_exporter": "python",
   "pygments_lexer": "ipython3",
   "version": "3.8.5"
  }
 },
 "nbformat": 4,
 "nbformat_minor": 4
}
