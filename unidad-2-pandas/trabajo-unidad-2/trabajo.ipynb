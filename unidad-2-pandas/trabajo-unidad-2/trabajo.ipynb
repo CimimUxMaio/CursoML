{
 "cells": [
  {
   "cell_type": "markdown",
   "metadata": {},
   "source": [
    "# ¿Qué otros formatos de archivos podemos usar con _Pandas_?"
   ]
  },
  {
   "cell_type": "code",
   "execution_count": 1,
   "metadata": {},
   "outputs": [],
   "source": [
    "import pandas as pd"
   ]
  },
  {
   "cell_type": "markdown",
   "metadata": {},
   "source": [
    "Antes citar los distintos tipos de archivos que podemos utilizar con Pandas, me parece importante destacar que pandas incluye multiples metods del tipo `to_<tipo_de_archivo>()` que permite convertir un `DataFrame` a el tipo de archivo indicado:"
   ]
  },
  {
   "cell_type": "code",
   "execution_count": 2,
   "metadata": {},
   "outputs": [
    {
     "name": "stdout",
     "output_type": "stream",
     "text": [
      "     nombre sexo\n",
      "id              \n",
      "1      Juan    m\n",
      "2     Pedro    m\n",
      "3      Anna    f\n",
      "4   Julieta    f\n",
      "5     Pablo    m\n",
      "6     Ramón    m\n",
      "7      Gaby    f\n"
     ]
    }
   ],
   "source": [
    "datos = [\n",
    "    {\"id\": 1, \"nombre\":\"Juan\", \"sexo\":\"m\"},\n",
    "    {\"id\": 2, \"nombre\":\"Pedro\", \"sexo\":\"m\"},\n",
    "    {\"id\": 3, \"nombre\":\"Anna\", \"sexo\":\"f\"},\n",
    "    {\"id\": 4, \"nombre\":\"Julieta\", \"sexo\":\"f\"},\n",
    "    {\"id\": 5, \"nombre\":\"Pablo\", \"sexo\":\"m\"},\n",
    "    {\"id\": 6, \"nombre\":\"Ramón\", \"sexo\":\"m\"},\n",
    "    {\"id\": 7, \"nombre\":\"Gaby\", \"sexo\":\"f\"}\n",
    "]\n",
    "\n",
    "df = pd.DataFrame(datos).set_index(\"id\")\n",
    "\n",
    "print(df)"
   ]
  },
  {
   "cell_type": "code",
   "execution_count": 3,
   "metadata": {},
   "outputs": [],
   "source": [
    "df.to_excel(\"examples/generated_excel.xlsx\")  # Guardamos el DataFrame en disco utilizado el formato excel"
   ]
  },
  {
   "cell_type": "markdown",
   "metadata": {},
   "source": [
    "Luego, podemos leerlo:"
   ]
  },
  {
   "cell_type": "code",
   "execution_count": 4,
   "metadata": {},
   "outputs": [
    {
     "name": "stdout",
     "output_type": "stream",
     "text": [
      "   id   nombre sexo\n",
      "0   1     Juan    m\n",
      "1   2    Pedro    m\n",
      "2   3     Anna    f\n",
      "3   4  Julieta    f\n",
      "4   5    Pablo    m\n",
      "5   6    Ramón    m\n",
      "6   7     Gaby    f\n"
     ]
    }
   ],
   "source": [
    "print(pd.read_excel(\"examples/generated_excel.xlsx\"))"
   ]
  },
  {
   "cell_type": "markdown",
   "metadata": {},
   "source": [
    "Existen muchos tipos de archivos a los que se puede convertir un `DataFrame`, algunos de los cuales se verán a continuación."
   ]
  },
  {
   "cell_type": "markdown",
   "metadata": {},
   "source": [
    "<br>"
   ]
  },
  {
   "cell_type": "markdown",
   "metadata": {},
   "source": [
    "## Otros tipos de archivos"
   ]
  },
  {
   "cell_type": "markdown",
   "metadata": {},
   "source": [
    "Hasta ahora, todos los tipos de archivos que vimos guardan los datos en fomra de _texto_ y por lo tanto no son muy eficientes en terminos de espacio para almacenar grandes cantidades de datos."
   ]
  },
  {
   "cell_type": "markdown",
   "metadata": {},
   "source": [
    "#### Libro Binario de Excel (_.xlsb_)"
   ]
  },
  {
   "cell_type": "markdown",
   "metadata": {},
   "source": [
    "Es un formato de excel que permite guardar los datos de forma binaria en vez de XML (texto)\n",
    "- Son utiles para cuando existe una gran cantidad de datos, ya que los archivos resultan muchisimo mas chicos\n",
    "- Son mas rapidos tanto para la lectura y escritura que su contraparte _.xlsx_"
   ]
  },
  {
   "cell_type": "markdown",
   "metadata": {},
   "source": [
    "Para leerlos utilizamos tambien la funcion `read_excel`, pero en este caso debemos especificar el engine a utilizar para leerlo: \"pyxlsb\":"
   ]
  },
  {
   "cell_type": "code",
   "execution_count": 5,
   "metadata": {},
   "outputs": [
    {
     "name": "stdout",
     "output_type": "stream",
     "text": [
      "   id   nombre sexo\n",
      "0   1     Juan    m\n",
      "1   2    Pedro    m\n",
      "2   3     Anna    f\n",
      "3   4  Julieta    f\n",
      "4   5    Pablo    m\n",
      "5   6    Ramón    m\n",
      "6   7     Gaby    f\n"
     ]
    }
   ],
   "source": [
    "df = pd.read_excel(\"examples/example_binary_excel.xlsb\", engine=\"pyxlsb\")\n",
    "print(df)"
   ]
  },
  {
   "cell_type": "markdown",
   "metadata": {},
   "source": [
    "- Para poder usar el engine \"pyxlsb\" debemos installarlo utilzando `pip install pyxlsb` o `conda install -c conda-forge pyxlsb`"
   ]
  },
  {
   "cell_type": "markdown",
   "metadata": {},
   "source": [
    "#### Feather (_.feather_)"
   ]
  },
  {
   "cell_type": "markdown",
   "metadata": {},
   "source": [
    "Es otro tipo de archivo que nos permite guardar datos de forma binaria. \n",
    "- Fue especificamente diseñado para leer y escribir sobre estos sea extremadamente eficiente\n",
    "- Al tratarse de una serializacion de datos binaria, el tamaño de los archivos resulta muy reducido\n",
    "- Es muy util, tambien, para guardar grande cantidades de datos en un archivo reducido"
   ]
  },
  {
   "cell_type": "code",
   "execution_count": 6,
   "metadata": {},
   "outputs": [],
   "source": [
    "pd.DataFrame(datos).to_feather(\"examples/generated_feather.feather\")  ## Creamos el archivo feader"
   ]
  },
  {
   "cell_type": "markdown",
   "metadata": {},
   "source": [
    "- Para poder trabajar con este tipo de archivos necesitamos installar la dependencia 'pyarrow' utilizando: `pip install pyarrow` o `conda install -c conda-forge pyarrow`"
   ]
  },
  {
   "cell_type": "markdown",
   "metadata": {},
   "source": [
    "Luego para leerlo utilizamos `read_feather()`:"
   ]
  },
  {
   "cell_type": "code",
   "execution_count": 7,
   "metadata": {},
   "outputs": [
    {
     "name": "stdout",
     "output_type": "stream",
     "text": [
      "   id   nombre sexo\n",
      "0   1     Juan    m\n",
      "1   2    Pedro    m\n",
      "2   3     Anna    f\n",
      "3   4  Julieta    f\n",
      "4   5    Pablo    m\n",
      "5   6    Ramón    m\n",
      "6   7     Gaby    f\n"
     ]
    }
   ],
   "source": [
    "df = pd.read_feather(\"examples/generated_feather.feather\")\n",
    "print(df)"
   ]
  },
  {
   "cell_type": "markdown",
   "metadata": {},
   "source": [
    "Entre otros archivos binarios columnares de similares caracteristicas a los dos anteriores estan:\n",
    "- Parquet (_.parquet_)\n",
    "- ORC _Optimized Row Columnar_ (_.orc_)\n",
    "\n",
    "(para ambos necesitamos la dependencia 'pyarrow' como engine para leerlos)"
   ]
  },
  {
   "cell_type": "markdown",
   "metadata": {},
   "source": [
    "#### Local clipboard"
   ]
  },
  {
   "cell_type": "markdown",
   "metadata": {},
   "source": [
    "Mas que un formato, es una forma que nos permite leer datos del \"clipboard buffer\" (donde se guarda lo que copiamos) utilizando la funcion `read_clipboard()`."
   ]
  },
  {
   "cell_type": "markdown",
   "metadata": {},
   "source": [
    "**Ejemplo:**"
   ]
  },
  {
   "cell_type": "markdown",
   "metadata": {},
   "source": [
    "Si copiamos lo siguiente:\n",
    "\n",
    "id nombre sexo \\\n",
    "1 Juan m \\\n",
    "2 Pedro m \\\n",
    "3 Anna f \\\n",
    "4 Julieta f \\\n",
    "5 Pablo m \\\n",
    "6 Ramón m \\\n",
    "7 Gaby f"
   ]
  },
  {
   "cell_type": "markdown",
   "metadata": {},
   "source": [
    "Y luego ejecutamos el siguiente script:"
   ]
  },
  {
   "cell_type": "code",
   "execution_count": 13,
   "metadata": {},
   "outputs": [
    {
     "name": "stdout",
     "output_type": "stream",
     "text": [
      "   id   nombre sexo\n",
      "0   1     Juan    m\n",
      "1   2    Pedro    m\n",
      "2   3     Anna    f\n",
      "3   4  Julieta    f\n",
      "4   5    Pablo    m\n",
      "5   6    Ramón    m\n",
      "6   7     Gaby    f\n"
     ]
    }
   ],
   "source": [
    "df = pd.read_clipboard()\n",
    "print(df)"
   ]
  },
  {
   "cell_type": "markdown",
   "metadata": {},
   "source": [
    "- Otra funcionalidad interesante es la posibilidad de escribir sobre el \"clipboard buffer\" usando `to_clipboard()`"
   ]
  },
  {
   "cell_type": "markdown",
   "metadata": {},
   "source": [
    "<br>"
   ]
  },
  {
   "cell_type": "markdown",
   "metadata": {},
   "source": [
    "_Podemos encontrar sobre mas formatos posibles en [Pandas io](https://pandas.pydata.org/docs/user_guide/io.html)_"
   ]
  }
 ],
 "metadata": {
  "kernelspec": {
   "display_name": "Python 3",
   "language": "python",
   "name": "python3"
  },
  "language_info": {
   "codemirror_mode": {
    "name": "ipython",
    "version": 3
   },
   "file_extension": ".py",
   "mimetype": "text/x-python",
   "name": "python",
   "nbconvert_exporter": "python",
   "pygments_lexer": "ipython3",
   "version": "3.8.5"
  }
 },
 "nbformat": 4,
 "nbformat_minor": 4
}
