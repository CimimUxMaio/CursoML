{
 "cells": [
  {
   "cell_type": "markdown",
   "metadata": {},
   "source": [
    "# **Trabajo de investigacion:** _Herramientas de Python para Machine Learning_"
   ]
  },
  {
   "cell_type": "markdown",
   "metadata": {},
   "source": [
    "## Scikit-learn"
   ]
  },
  {
   "cell_type": "markdown",
   "metadata": {},
   "source": [
    "- Biblioteca para aprendizaje automatico en Python\n",
    "- Open source\n",
    "- Construida sobre otras bibliotecas como **NumPy** y **matplotlib**\n",
    "    - Permitiendo la interoperabilidad con las mismas\n",
    "- Incluye algoritmos de aprendizaje tanto _supervisado_ como _no supervisado_\n",
    "- Tambien incluye herramientas para facilitar el diseño de un modelo, su evaluacion y más"
   ]
  },
  {
   "cell_type": "markdown",
   "metadata": {},
   "source": [
    "## TensorFlow"
   ]
  },
  {
   "cell_type": "markdown",
   "metadata": {},
   "source": [
    "- Es otra biblioteca para aprendizaje automatico\n",
    "- Open source\n",
    "- Desarrollada por _Google_\n",
    "- Es una gran plataforma para construir y entrenar redes neuronales\n",
    "    - Permiten detectar y descifrar patrones y correlaciones, simulando el aprendizaje y razonamiento usado por los humanos\n",
    "- Ofrese varios niveles de abstraccion para facilitar el diseño de los modelos\n",
    "- Compila y entrena modelos mediante la API de _Keras_\n",
    "    - Ayuda a que sea mas facil de utilizar y aprender"
   ]
  },
  {
   "cell_type": "markdown",
   "metadata": {},
   "source": [
    "### TensorFlow vs Scikit-learn\n",
    "- Se puede pensar a TensorFlow como una biblioteca de bajo nivel que ofrece las bases para construir algorimos para el aprendizaje automatico, mientras que _Scikit-learn_ es una biblioteca de alto nivel que ofrece implementaciones de una gran variedad de algoritmos\n",
    "- El alto nivel de Scikit-learn permite que sea posible definir un modelo en una sola linea de codigo\n",
    "- TensorFlow brilla cuando lo que se desea es implementar algoritmos para \"Deep Learning\", ya que nos permite utilizar las ventajas de la GPU para un aprendizaje mas eficiente\n",
    "- #### **Deep learning:**\n",
    "    - es una subrama de \"Machine learning\" que predica con la idea del aprendizaje desde el ejemplo\n",
    "    - en lugar de enseñarle a la computadora una lista enorme de reglas para solucionar un problema, le damos un modelo en el que pueda evaluar modelo y una pequeña coleccion de instrucciones para que pueda modificarlo cuando se produzcan errores\n",
    "    - entre las distintas tecnicas que se utilizan para implementar _Deep learning_, la mas conocida es la de **Redes neuronales**"
   ]
  },
  {
   "cell_type": "markdown",
   "metadata": {},
   "source": [
    "## Otras herramientas útiles:"
   ]
  },
  {
   "cell_type": "markdown",
   "metadata": {},
   "source": [
    "- ### Pandas\n",
    "    - Biblioteca de codigo abierto\n",
    "    - Incluye herramientas para la obtencion de datos provenientes de multiples formatos distintos\n",
    "    - Proporciona estructuras de datos de alto rendimiento y faciles de utilizar\n",
    "    - Incluye herramientas de analisis de datos"
   ]
  },
  {
   "cell_type": "markdown",
   "metadata": {},
   "source": [
    "- ### NumPy\n",
    "    - Biblioteca para el lenguaje de programacion Python\n",
    "    - Da soporte para crear vectores y matrices grandes multidimencionales y una gran coleccion de funciones matematicas de alto nivel para operarlos\n",
    "    - Provee herramientas para el calculo numerico\n",
    "        - Rutinas para el algebra lineal\n",
    "        - Transformadas de Fourier\n",
    "        - y más\n",
    "    - Es muy utilizada por lo que es una dependencia común en el resto de librerias utilizadas para el analisis de datos\n",
    "    - Es muy performante\n",
    "        - Su nucleo es codigo muy optimizado en C\n",
    "        - Permite aprovechar la flexibilidad de Python con la velocidad del codigo compilado"
   ]
  },
  {
   "cell_type": "markdown",
   "metadata": {},
   "source": [
    "- ### MatplotLib\n",
    "    - Es una biblioteca para la generacion de graficos a partir de datos en el lenguaje Python\n",
    "    - Permite crear graficos tanto estáticos, como animados o interactivos\n",
    "    - Nos permite visualizar los datos con los que se va a trabajar\n",
    "        - Inspeccionarlos\n",
    "        - Realizar estadisticas"
   ]
  },
  {
   "cell_type": "markdown",
   "metadata": {},
   "source": [
    "- ### Keras\n",
    "    - Es una framework para \"Deep learning\" con Python\n",
    "    - Open source\n",
    "    - Construida sobre `TensorFlow 2.0`\n",
    "    - Su objetivo es posibilitar la experimentacion en el menor tiempo posible\n",
    "        - Hace mas facil la realizacion de experimentos y fomenta la prueba de nuevas ideas rapida y facilmente\n",
    "    - Provee una API amigable para el usuario, modular y extensible\n",
    "    "
   ]
  }
 ],
 "metadata": {
  "kernelspec": {
   "display_name": "Python 3",
   "language": "python",
   "name": "python3"
  },
  "language_info": {
   "codemirror_mode": {
    "name": "ipython",
    "version": 3
   },
   "file_extension": ".py",
   "mimetype": "text/x-python",
   "name": "python",
   "nbconvert_exporter": "python",
   "pygments_lexer": "ipython3",
   "version": "3.8.5"
  }
 },
 "nbformat": 4,
 "nbformat_minor": 4
}
