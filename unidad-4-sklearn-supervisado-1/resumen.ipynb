{
 "cells": [
  {
   "cell_type": "markdown",
   "metadata": {},
   "source": [
    "# Analisis exploratorio de datos (*AED*)\n",
    "\n",
    "- Para esta unidad vamos a trabajaron con las bibliotecas antes vistas y vamos a introducir algunas funcionalidades de __*sklearn*__"
   ]
  },
  {
   "cell_type": "code",
   "execution_count": 1,
   "metadata": {},
   "outputs": [],
   "source": [
    "import sklearn as sk\n",
    "import pandas as pd\n",
    "import numpy as np"
   ]
  },
  {
   "cell_type": "markdown",
   "metadata": {},
   "source": [
    "## Aprendizaje supervisado"
   ]
  },
  {
   "cell_type": "markdown",
   "metadata": {},
   "source": [
    "En el aprendizaje **supervisado** nuestro modelo intenta deducir una funcion que nos permita predecir el valor de salida de cualquier objeto de entrada valido.\n",
    "\n",
    "Para ello los algoritmos **\\\"generalizan\\\"** a partir de un conjunto de datos de ejemplo (o entrenamiento).\n",
    "\n",
    "Los algoritmos pueden clasificarse en 2 casos: de **Regresion** o de **Clasificacion**."
   ]
  },
  {
   "cell_type": "markdown",
   "metadata": {},
   "source": [
    "#### Regresión\n",
    "\n",
    "- Las salidas consisten en una o mas variables continuas\n",
    "- **Ejemplo:** predecir la lonjitud de un salmón dados su edad y su peso"
   ]
  },
  {
   "cell_type": "markdown",
   "metadata": {},
   "source": [
    "#### Clasificación\n",
    "\n",
    "- Existe un conjunto discreto de posibles salidas\n",
    "- Se desea *\\\"clasificar\\\"* las entradas con alguna de ellas\n",
    "- **Ejemplo:** identificar si un mail es \"spam\" o \"no spam\""
   ]
  },
  {
   "cell_type": "markdown",
   "metadata": {},
   "source": [
    "## AED"
   ]
  },
  {
   "cell_type": "markdown",
   "metadata": {},
   "source": [
    "Antes de crear cualquier algoritmo, debemos asegurarnos que los datos son confiables.\n",
    "- Verificando la calidad y precision de los mismos"
   ]
  },
  {
   "cell_type": "markdown",
   "metadata": {},
   "source": [
    "Para ello *AED* enfatiza la importancia de organizar y desplegar los datos **gráficamente**."
   ]
  },
  {
   "cell_type": "markdown",
   "metadata": {},
   "source": [
    "### Ejemplo: *regresión lineal*"
   ]
  },
  {
   "cell_type": "markdown",
   "metadata": {},
   "source": [
    "Consiste en identificar con precisíon una línea que sea capaz de representar la distribucion de puntos en un plano bidimensional."
   ]
  },
  {
   "cell_type": "markdown",
   "metadata": {},
   "source": [
    "Para el ejemplo vamos los datos de un csv de ejemplo:"
   ]
  },
  {
   "cell_type": "code",
   "execution_count": 2,
   "metadata": {},
   "outputs": [
    {
     "data": {
      "text/html": [
       "<div>\n",
       "<style scoped>\n",
       "    .dataframe tbody tr th:only-of-type {\n",
       "        vertical-align: middle;\n",
       "    }\n",
       "\n",
       "    .dataframe tbody tr th {\n",
       "        vertical-align: top;\n",
       "    }\n",
       "\n",
       "    .dataframe thead th {\n",
       "        text-align: right;\n",
       "    }\n",
       "</style>\n",
       "<table border=\"1\" class=\"dataframe\">\n",
       "  <thead>\n",
       "    <tr style=\"text-align: right;\">\n",
       "      <th></th>\n",
       "      <th>x</th>\n",
       "      <th>y</th>\n",
       "    </tr>\n",
       "  </thead>\n",
       "  <tbody>\n",
       "    <tr>\n",
       "      <th>0</th>\n",
       "      <td>0</td>\n",
       "      <td>6</td>\n",
       "    </tr>\n",
       "    <tr>\n",
       "      <th>1</th>\n",
       "      <td>1</td>\n",
       "      <td>25</td>\n",
       "    </tr>\n",
       "    <tr>\n",
       "      <th>2</th>\n",
       "      <td>2</td>\n",
       "      <td>10</td>\n",
       "    </tr>\n",
       "    <tr>\n",
       "      <th>3</th>\n",
       "      <td>3</td>\n",
       "      <td>28</td>\n",
       "    </tr>\n",
       "    <tr>\n",
       "      <th>4</th>\n",
       "      <td>4</td>\n",
       "      <td>29</td>\n",
       "    </tr>\n",
       "  </tbody>\n",
       "</table>\n",
       "</div>"
      ],
      "text/plain": [
       "   x   y\n",
       "0  0   6\n",
       "1  1  25\n",
       "2  2  10\n",
       "3  3  28\n",
       "4  4  29"
      ]
     },
     "execution_count": 2,
     "metadata": {},
     "output_type": "execute_result"
    }
   ],
   "source": [
    "data = pd.read_csv(\"examples/regresion_lineal.csv\")\n",
    "xs = data.x.values.reshape(len(data), 1)  # Convertimos los valores en una matriz de N x 1\n",
    "ys = data.y.values.reshape(len(data), 1)  # \"\n",
    "\n",
    "data.head()"
   ]
  },
  {
   "cell_type": "markdown",
   "metadata": {},
   "source": [
    "Dividimos los datos en un conjunto de entrenamiento y un conjunto de prueba:"
   ]
  },
  {
   "cell_type": "code",
   "execution_count": 3,
   "metadata": {},
   "outputs": [],
   "source": [
    " # Vamos a utilizar 80% de los datos como datos de entrenamiento\n",
    "training_amount = int(0.8 * len(xs))\n",
    "\n",
    "training_data = { \"xs\": xs[:training_amount], \"ys\": ys[:training_amount] }\n",
    "test_data = { \"xs\": xs[training_amount:], \"ys\": ys[training_amount:] }"
   ]
  },
  {
   "cell_type": "markdown",
   "metadata": {},
   "source": [
    "Generamos la regresion lineal a partir de los datos de entrenamiento, para ello utilizamos el modulo `linear_model` de `sklearn`:"
   ]
  },
  {
   "cell_type": "code",
   "execution_count": 4,
   "metadata": {},
   "outputs": [
    {
     "data": {
      "text/plain": [
       "LinearRegression()"
      ]
     },
     "execution_count": 4,
     "metadata": {},
     "output_type": "execute_result"
    }
   ],
   "source": [
    "from sklearn import linear_model\n",
    "\n",
    "linear_regressor = linear_model.LinearRegression()\n",
    "\n",
    "linear_regressor.fit(training_data[\"xs\"], training_data[\"ys\"])"
   ]
  },
  {
   "cell_type": "markdown",
   "metadata": {},
   "source": [
    "Visualizamos la correspondencia entre los valores de entrenamiento y los valores de Y predichos para los mismos:\n",
    "\n",
    "- Graficamos los valores predichos como una recta y utilizamos `scatter` para los valores reales"
   ]
  },
  {
   "cell_type": "code",
   "execution_count": 5,
   "metadata": {},
   "outputs": [],
   "source": [
    "import matplotlib.pyplot as plt\n",
    "\n",
    "def plot_prediction(real_data, predictions, title, real_color=\"pink\"):\n",
    "    plt.plot(real_data[\"xs\"], predictions, color=\"black\", linewidth=2)\n",
    "    plt.scatter(real_data[\"xs\"], real_data[\"ys\"], color=real_color)\n",
    "\n",
    "    plt.title(title)\n",
    "    plt.show()"
   ]
  },
  {
   "cell_type": "code",
   "execution_count": 6,
   "metadata": {},
   "outputs": [
    {
     "data": {
      "image/png": "[encoded data removed]",
      "text/plain": [
       "<Figure size 432x288 with 1 Axes>"
      ]
     },
     "metadata": {
      "needs_background": "light"
     },
     "output_type": "display_data"
    }
   ],
   "source": [
    "predicted_ys = linear_regressor.predict(training_data[\"xs\"])\n",
    "               \n",
    "plot_prediction(training_data, predicted_ys, title=\"Datos de entrenamiento\")"
   ]
  },
  {
   "cell_type": "markdown",
   "metadata": {},
   "source": [
    "Ahora podemos utilizar el modelo para predecir los valores de Y de los datos de prueba:"
   ]
  },
  {
   "cell_type": "code",
   "execution_count": 7,
   "metadata": {},
   "outputs": [],
   "source": [
    "predicted_ys = linear_regressor.predict(test_data[\"xs\"])"
   ]
  },
  {
   "cell_type": "markdown",
   "metadata": {},
   "source": [
    "Luego, analogamente, podemos visualizar si los valores predichos se corresponden o no a los valores de Y reales."
   ]
  },
  {
   "cell_type": "code",
   "execution_count": 8,
   "metadata": {},
   "outputs": [
    {
     "data": {
      "image/png": "[encoded data removed]",
      "text/plain": [
       "<Figure size 432x288 with 1 Axes>"
      ]
     },
     "metadata": {
      "needs_background": "light"
     },
     "output_type": "display_data"
    }
   ],
   "source": [
    "plot_prediction(\n",
    "    test_data, \n",
    "    predicted_ys, \n",
    "    title=\"Datos de prueba\", \n",
    "    real_color=\"green\"\n",
    ")"
   ]
  },
  {
   "cell_type": "markdown",
   "metadata": {},
   "source": [
    "##### ¿Cómo evaluamos la regresion lineal?\n",
    "\n",
    "Para ello utilizamos el modulo `sklearn.metrics`, que nos permite calcular:\n",
    "- **Error absoluto medio:** promedio de errores absolutos\n",
    "- **Error cuadratico medio:** promedio de los cuadrados de los errores\n",
    "- **Error absoluto mediano:** la *mediana* de todos los errores\n",
    "    - Es robusta a valores atipicos\n",
    "- **Puntuacion de varianza explicada:** mide que tan bien nuestro modelo puede explicar la variacion en nuestro conjunto de datos\n",
    "    - Una puntuacion de 1.0 indica que el modelo es perfecto\n",
    "- **Puntuacion R2:** Indica que tan bien serán predichas las muestras desconocidas por nuestro modelo\n",
    "    - La mejor puntuacion es 1.0\n",
    "    - La puntuacion *puede* ser negativa"
   ]
  },
  {
   "cell_type": "code",
   "execution_count": 9,
   "metadata": {},
   "outputs": [],
   "source": [
    "import sklearn.metrics as sm\n",
    "\n",
    "def print_metrics(real, predicted):\n",
    "    mean_absolute_error = round(sm.mean_absolute_error(real, predicted), 2)  # Redondeamos a 2 decimales\n",
    "    mean_squared_error = round(sm.mean_squared_error(real, predicted), 2)\n",
    "    median_absolute_error = round(sm.median_absolute_error(real, predicted), 2)\n",
    "    explained_variance_score = round(sm.explained_variance_score(real, predicted), 2)\n",
    "    r2_score = round(sm.r2_score(real, predicted), 2)\n",
    "    \n",
    "    print(f\"Error absoluto medio: {mean_absolute_error}\")\n",
    "    print(f\"Error cuadratico medio: {mean_squared_error}\")\n",
    "    print(f\"Error absoluto mediano: {median_absolute_error}\")\n",
    "    print(f\"Puntuacion de varianza explicada: {explained_variance_score}\")\n",
    "    print(f\"Puntuacion R2: {r2_score}\")"
   ]
  },
  {
   "cell_type": "code",
   "execution_count": 10,
   "metadata": {},
   "outputs": [
    {
     "name": "stdout",
     "output_type": "stream",
     "text": [
      "Error absoluto medio: 6.33\n",
      "Error cuadratico medio: 54.72\n",
      "Error absoluto mediano: 6.94\n",
      "Puntuacion de varianza explicada: 0.95\n",
      "Puntuacion R2: 0.94\n"
     ]
    }
   ],
   "source": [
    "print_metrics(test_data[\"ys\"], predicted_ys)"
   ]
  },
  {
   "cell_type": "markdown",
   "metadata": {},
   "source": [
    "#### Regresión contraida\n",
    "\n",
    "Es otro algoritmo para el calculo de un modelo de regresion lineal. El algoritmo busca amortiguar el impacto que podrian tener algunos valores aislados dentro de nuestro conjunto de datos que se alejan de la dispersión."
   ]
  },
  {
   "cell_type": "code",
   "execution_count": 11,
   "metadata": {},
   "outputs": [
    {
     "data": {
      "image/png": "[encoded data removed]",
      "text/plain": [
       "<Figure size 432x288 with 1 Axes>"
      ]
     },
     "metadata": {
      "needs_background": "light"
     },
     "output_type": "display_data"
    }
   ],
   "source": [
    "regresion_ridge = linear_model.Ridge(alpha=0.01, fit_intercept=True, max_iter=10000)\n",
    "regresion_ridge.fit(training_data[\"xs\"], training_data[\"ys\"])\n",
    "\n",
    "predicted_ys = regresion_ridge.predict(test_data[\"xs\"])\n",
    "\n",
    "plot_prediction(\n",
    "    test_data,\n",
    "    predicted_ys,\n",
    "    title=\"Datos de prueba\",\n",
    "    real_color=\"green\"\n",
    ")"
   ]
  },
  {
   "cell_type": "code",
   "execution_count": 12,
   "metadata": {},
   "outputs": [
    {
     "name": "stdout",
     "output_type": "stream",
     "text": [
      "Error absoluto medio: 6.33\n",
      "Error cuadratico medio: 54.72\n",
      "Error absoluto mediano: 6.94\n",
      "Puntuacion de varianza explicada: 0.95\n",
      "Puntuacion R2: 0.94\n"
     ]
    }
   ],
   "source": [
    "print_metrics(test_data[\"ys\"], predicted_ys)"
   ]
  },
  {
   "cell_type": "markdown",
   "metadata": {},
   "source": [
    "- Como los datos de ejemplo no tienen puntos aislados, ambos algoritmos llegan a los mismos resultados"
   ]
  },
  {
   "cell_type": "markdown",
   "metadata": {},
   "source": [
    "### Ejemplo: *Regresion logistica* (clasificación)"
   ]
  },
  {
   "cell_type": "markdown",
   "metadata": {},
   "source": [
    "Es un modelo lineal para la **clasificacion**.\n",
    "\n",
    "Tambien se la conoce como:\n",
    "- Regresión logit\n",
    "- Clasificacion de maxima entropia (MaxEnt)\n",
    "- Clasificador log-lineal"
   ]
  },
  {
   "cell_type": "code",
   "execution_count": 13,
   "metadata": {},
   "outputs": [],
   "source": [
    "import numpy as np\n",
    "from sklearn import linear_model\n",
    "from sklearn.metrics import classification_report\n",
    "from sklearn.metrics import confusion_matrix\n",
    "from sklearn.metrics import accuracy_score"
   ]
  },
  {
   "cell_type": "code",
   "execution_count": 14,
   "metadata": {},
   "outputs": [
    {
     "data": {
      "image/png": "[encoded data removed]",
      "text/plain": [
       "<Figure size 432x288 with 1 Axes>"
      ]
     },
     "metadata": {
      "needs_background": "light"
     },
     "output_type": "display_data"
    }
   ],
   "source": [
    "data = pd.read_csv(\"examples/clasificacion.csv\")\n",
    "plt.scatter(data.x, data.y)\n",
    "plt.show()"
   ]
  },
  {
   "cell_type": "markdown",
   "metadata": {},
   "source": [
    "- Podemos ver facilmente que los datos se pueden \"clasificar\" en 2 conjuntos"
   ]
  },
  {
   "cell_type": "markdown",
   "metadata": {},
   "source": [
    "De los datos (que cononcemos) podemos tomar un conjunto de entranamiento, clasificando los datos manualmente:"
   ]
  },
  {
   "cell_type": "code",
   "execution_count": 15,
   "metadata": {},
   "outputs": [],
   "source": [
    "n_points = len(data) - 1   # Cantidad de puntos (resto uno porque los nombres de las columnas cuentan)\n",
    "\n",
    "training_percentaje = 0.8  # Vamos a usar el 80% de cada clase para entrenar el algoritmo\n",
    "n_training_sample = int(training_percentaje * n_points)\n",
    "\n",
    "training_data = data.sample(n=n_training_sample)\n",
    "training_data_classifications = training_data.classification.values\n",
    "\n",
    "# Obtenemos el conjunto de prueba a partir de los datos que no estan contenidos en en conjunto de entrenamiento\n",
    "common = data.merge(training_data, on=[\"x\", \"y\"])\n",
    "test_data = data[~data.x.isin(common.x)&~data.y.isin(common.y)]"
   ]
  },
  {
   "cell_type": "markdown",
   "metadata": {},
   "source": [
    "- Sabemos que la primera mitad de los datos pertenece a la clase 0 y la otra a la 1\n",
    "    - Lo se porque yo cree los datos, en la realidad, deberiamos poder clasificar un conjunto de ellos manualmente proponiendo una hipotesis que los clasifique. En este caso la hipotesis es que la primera mitad pertenece a un grupo y la otra al otro."
   ]
  },
  {
   "cell_type": "markdown",
   "metadata": {},
   "source": [
    "Ahora utilizamos `LogisticRegresion` para crear un objeto clasificador y lo ajustamos usando `fit`"
   ]
  },
  {
   "cell_type": "code",
   "execution_count": 16,
   "metadata": {},
   "outputs": [
    {
     "data": {
      "text/plain": [
       "LogisticRegression(C=100)"
      ]
     },
     "execution_count": 16,
     "metadata": {},
     "output_type": "execute_result"
    }
   ],
   "source": [
    "classificator = linear_model.LogisticRegression(solver=\"lbfgs\", C=100)\n",
    "classificator.fit(training_data[[\"x\", \"y\"]], training_data_classifications)"
   ]
  },
  {
   "cell_type": "code",
   "execution_count": 17,
   "metadata": {},
   "outputs": [
    {
     "name": "stdout",
     "output_type": "stream",
     "text": [
      "Prediction: \n",
      " [1 1 1 1 0 0 0 1 1 1 0 1 1 1 0 1 1 1 1 1 0 0 1 0 0 1 1 0 0 0 1 0 1 1 0 1 0\n",
      " 0 0 1 1 0 1 1 1 0 0 0 1 0 0 0 1 0 1 1 1 0 0 1 1 1 1 0 1 0 0 1 0 1 0 0 1 1\n",
      " 1 0 0 1 0 0] \n",
      "\n",
      "Score: 1.000000\n"
     ]
    }
   ],
   "source": [
    "print(\"Prediction: \\n\", classificator.predict(training_data[[\"x\", \"y\"]]), \"\\n\")\n",
    "print(\"Score: %f\" % classificator.score(training_data[[\"x\", \"y\"]], training_data_classifications))"
   ]
  },
  {
   "cell_type": "markdown",
   "metadata": {},
   "source": [
    "Ahora podemos probar como funciona el modelo utilizando nuestras datos de prueba:"
   ]
  },
  {
   "cell_type": "code",
   "execution_count": 18,
   "metadata": {},
   "outputs": [
    {
     "data": {
      "image/png": "[encoded data removed]",
      "text/plain": [
       "<Figure size 432x288 with 1 Axes>"
      ]
     },
     "metadata": {
      "needs_background": "light"
     },
     "output_type": "display_data"
    }
   ],
   "source": [
    "predictions = classificator.predict(test_data[[\"x\", \"y\"]])\n",
    "\n",
    "plt.scatter(test_data.x, test_data.y, c=predictions, cmap=plt.cm.Paired)\n",
    "plt.title(\"Test data\")\n",
    "plt.show()"
   ]
  },
  {
   "cell_type": "markdown",
   "metadata": {},
   "source": [
    "Y si incluimos todos los datos:"
   ]
  },
  {
   "cell_type": "code",
   "execution_count": 19,
   "metadata": {},
   "outputs": [
    {
     "data": {
      "image/png": "[encoded data removed]",
      "text/plain": [
       "<Figure size 432x288 with 1 Axes>"
      ]
     },
     "metadata": {
      "needs_background": "light"
     },
     "output_type": "display_data"
    }
   ],
   "source": [
    "predictions = classificator.predict(data[[\"x\", \"y\"]])\n",
    "\n",
    "plt.scatter(data.x, data.y, c=predictions, cmap=plt.cm.Paired)\n",
    "plt.title(\"All data\")\n",
    "plt.show()"
   ]
  },
  {
   "cell_type": "markdown",
   "metadata": {},
   "source": [
    "Ahora podemos visualizar como predeciria, nuestro modelo, todos los puntos del plano (aproximadamente) de forma grafica. Pero para ello primero hay que entender como funcionan las funciones:\n",
    "- `meshgrid()`\n",
    "- `arange()`\n",
    "- `pcolormesh()`\n",
    "- `ravel()`"
   ]
  },
  {
   "cell_type": "markdown",
   "metadata": {},
   "source": [
    "`arange()` nos permite generar numeros entre dos valores \\[a; b) separados por un valor o \"step\""
   ]
  },
  {
   "cell_type": "code",
   "execution_count": 20,
   "metadata": {},
   "outputs": [
    {
     "name": "stdout",
     "output_type": "stream",
     "text": [
      "[5.  5.5 6.  6.5 7.  7.5 8.  8.5 9.  9.5]\n"
     ]
    }
   ],
   "source": [
    "print(np.arange(5, 10, 0.5))"
   ]
  },
  {
   "cell_type": "markdown",
   "metadata": {},
   "source": [
    "`meshgrid` nos ayuda a generar todos los valores centros de una \"grilla\" dados los valores de cada una de sus columnas (X) y filas (Y)"
   ]
  },
  {
   "cell_type": "code",
   "execution_count": 21,
   "metadata": {},
   "outputs": [
    {
     "name": "stdout",
     "output_type": "stream",
     "text": [
      "[[0 1 2 3 4]\n",
      " [0 1 2 3 4]\n",
      " [0 1 2 3 4]\n",
      " [0 1 2 3 4]\n",
      " [0 1 2 3 4]]\n",
      "[[ 0  0  0  0  0]\n",
      " [ 3  3  3  3  3]\n",
      " [ 6  6  6  6  6]\n",
      " [ 9  9  9  9  9]\n",
      " [12 12 12 12 12]]\n"
     ]
    }
   ],
   "source": [
    "columnas = [0, 1, 2, 3, 4]  # Posicion en X donde estara cada columna\n",
    "filas = [0, 3, 6, 9, 12]  # posicion en Y donde estará cada fila\n",
    "\n",
    "c_xs, c_ys = np.meshgrid(columnas, filas)\n",
    "\n",
    "print(c_xs)\n",
    "print(c_ys)"
   ]
  },
  {
   "cell_type": "markdown",
   "metadata": {},
   "source": [
    "Si quicieramos obtener los centros de los cuadros utilizamos la funcion `ravel()` y `c_`, que funciona de forma similar a `zip`. `ravel()` convierte a nuestra matriz en un array 1D concantenando todas sus filas una atras de la otra.\n",
    "- Una funcion muy parecida a `ravel` es `flatten` que hace lo mismo pero es mas lenta, ya que, a diferencia de la primera, NO retorna una referencia a la matriz original"
   ]
  },
  {
   "cell_type": "code",
   "execution_count": 22,
   "metadata": {},
   "outputs": [
    {
     "name": "stdout",
     "output_type": "stream",
     "text": [
      "[[ 0  0]\n",
      " [ 1  0]\n",
      " [ 2  0]\n",
      " [ 3  0]\n",
      " [ 4  0]\n",
      " [ 0  3]\n",
      " [ 1  3]\n",
      " [ 2  3]\n",
      " [ 3  3]\n",
      " [ 4  3]\n",
      " [ 0  6]\n",
      " [ 1  6]\n",
      " [ 2  6]\n",
      " [ 3  6]\n",
      " [ 4  6]\n",
      " [ 0  9]\n",
      " [ 1  9]\n",
      " [ 2  9]\n",
      " [ 3  9]\n",
      " [ 4  9]\n",
      " [ 0 12]\n",
      " [ 1 12]\n",
      " [ 2 12]\n",
      " [ 3 12]\n",
      " [ 4 12]]\n"
     ]
    }
   ],
   "source": [
    "centros = np.c_[c_xs.ravel(), c_ys.ravel()]\n",
    "print(centros)"
   ]
  },
  {
   "cell_type": "markdown",
   "metadata": {},
   "source": [
    "Finalmente podemos graficar estas celdas utilizando `pcolormesh` que recive los valores de X e Y de los vertices en el formato devuelto por `meshgrid()` y un array que permite clasificar a cada cuadro para así definir su color. Este ultimo debe tener la misma forma que los dos anteriores."
   ]
  },
  {
   "cell_type": "code",
   "execution_count": 23,
   "metadata": {},
   "outputs": [
    {
     "data": {
      "image/png": "[encoded data removed]",
      "text/plain": [
       "<Figure size 432x288 with 1 Axes>"
      ]
     },
     "metadata": {
      "needs_background": "light"
     },
     "output_type": "display_data"
    }
   ],
   "source": [
    "def funcion_clasificadora(punto):\n",
    "    return punto[0] + punto[1]\n",
    "\n",
    "clasificacion = np.array([ funcion_clasificadora(p) for p in centros ])  # Utilizamos los centros para clasificarlos como se desee\n",
    "\n",
    "plt.pcolormesh(c_xs, c_ys, clasificacion.reshape(c_xs.shape), shading=\"auto\")  # Importante que la clasificacion tenga el mismo formato que los demas arrays\n",
    "plt.scatter(centros[:, 0], centros[:, 1], color=\"black\")\n",
    "plt.show()"
   ]
  },
  {
   "cell_type": "markdown",
   "metadata": {},
   "source": [
    "Finalmente podemos aplicar esto ultimo a nuestro ejemplo para visualizar como clasifica nuestro modelo todos los puntos del plano:"
   ]
  },
  {
   "cell_type": "code",
   "execution_count": 24,
   "metadata": {},
   "outputs": [
    {
     "data": {
      "image/png": "[encoded data removed]",
      "text/plain": [
       "<Figure size 432x288 with 1 Axes>"
      ]
     },
     "metadata": {
      "needs_background": "light"
     },
     "output_type": "display_data"
    }
   ],
   "source": [
    "# Obtenemos los valores minimos y maximos de cada eje para definir las dimensiones de la grilla\n",
    "\n",
    "x_min = min(data.x) - 1\n",
    "x_max = max(data.x) + 1\n",
    "\n",
    "y_min = min(data.y) - 1\n",
    "y_max = max(data.y) + 1\n",
    "\n",
    "\n",
    "# Definimos los centros de la grilla\n",
    "\n",
    "step_size = 0.01  # Tomamos un \"step\" pequeños para tener en cuenta la mayor cantidad de puntos\n",
    "cols = np.arange(x_min, x_max, step_size)\n",
    "rows = np.arange(y_min, y_max, step_size)\n",
    "c_xs, c_ys = np.meshgrid(cols, rows)\n",
    "centers = np.c_[c_xs.ravel(), c_ys.ravel()]\n",
    "\n",
    "classification = classificator.predict(centers)\n",
    "\n",
    "plt.pcolormesh(c_xs, c_ys, classification.reshape(c_xs.shape), cmap=plt.cm.gray, shading=\"auto\")\n",
    "\n",
    "\n",
    "# Imprimimos los datos por encima de nuestra grilla\n",
    "\n",
    "test_predictions = classificator.predict(test_data[[\"x\", \"y\"]])\n",
    "training_predictions = classificator.predict(training_data[[\"x\", \"y\"]])\n",
    "\n",
    "plt.scatter(test_data.x, test_data.y, c=test_predictions, cmap=plt.cm.Paired, edgecolors=\"blue\")  # Bordeamos de color azul los puntos que se utilizar como pruebas\n",
    "plt.scatter(training_data.x, training_data.y, c=training_predictions, cmap=plt.cm.Paired)\n",
    "\n",
    "plt.show()"
   ]
  },
  {
   "cell_type": "markdown",
   "metadata": {},
   "source": [
    "- Se puede ver claramente porque se trata de un modelo de clasificacion **\"lineal\"**"
   ]
  }
 ],
 "metadata": {
  "kernelspec": {
   "display_name": "Python 3",
   "language": "python",
   "name": "python3"
  },
  "language_info": {
   "codemirror_mode": {
    "name": "ipython",
    "version": 3
   },
   "file_extension": ".py",
   "mimetype": "text/x-python",
   "name": "python",
   "nbconvert_exporter": "python",
   "pygments_lexer": "ipython3",
   "version": "3.8.5"
  }
 },
 "nbformat": 4,
 "nbformat_minor": 4
}
