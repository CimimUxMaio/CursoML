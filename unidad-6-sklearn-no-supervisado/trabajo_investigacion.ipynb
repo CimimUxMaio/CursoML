{
 "cells": [
  {
   "cell_type": "markdown",
   "metadata": {},
   "source": [
    "# Trabajo de investigacion: *Prediccion de ubicacion del delito*"
   ]
  },
  {
   "cell_type": "code",
   "execution_count": 1,
   "metadata": {},
   "outputs": [],
   "source": [
    "import matplotlib.pyplot as plt\n",
    "import pandas as pd\n",
    "import numpy as np\n",
    "import sklearn"
   ]
  },
  {
   "cell_type": "markdown",
   "metadata": {},
   "source": [
    "Datos obtenidos de: [Dataset delitos 2020 - Gobierno Buenos Aires](https://data.buenosaires.gob.ar/dataset/delitos)"
   ]
  },
  {
   "cell_type": "code",
   "execution_count": 2,
   "metadata": {},
   "outputs": [
    {
     "data": {
      "text/html": [
       "<div>\n",
       "<style scoped>\n",
       "    .dataframe tbody tr th:only-of-type {\n",
       "        vertical-align: middle;\n",
       "    }\n",
       "\n",
       "    .dataframe tbody tr th {\n",
       "        vertical-align: top;\n",
       "    }\n",
       "\n",
       "    .dataframe thead th {\n",
       "        text-align: right;\n",
       "    }\n",
       "</style>\n",
       "<table border=\"1\" class=\"dataframe\">\n",
       "  <thead>\n",
       "    <tr style=\"text-align: right;\">\n",
       "      <th></th>\n",
       "      <th>dia</th>\n",
       "      <th>franja</th>\n",
       "      <th>tipo</th>\n",
       "      <th>uso_armas</th>\n",
       "      <th>barrio</th>\n",
       "    </tr>\n",
       "  </thead>\n",
       "  <tbody>\n",
       "    <tr>\n",
       "      <th>0</th>\n",
       "      <td>Sábado</td>\n",
       "      <td>10</td>\n",
       "      <td>Homicidio por siniestro vial</td>\n",
       "      <td>NaN</td>\n",
       "      <td>Villa Crespo</td>\n",
       "    </tr>\n",
       "    <tr>\n",
       "      <th>1</th>\n",
       "      <td>Domingo</td>\n",
       "      <td>20</td>\n",
       "      <td>Homicidio por siniestro vial</td>\n",
       "      <td>NaN</td>\n",
       "      <td>Flores</td>\n",
       "    </tr>\n",
       "    <tr>\n",
       "      <th>2</th>\n",
       "      <td>Sábado</td>\n",
       "      <td>6</td>\n",
       "      <td>Homicidio por siniestro vial</td>\n",
       "      <td>NaN</td>\n",
       "      <td>Balvanera</td>\n",
       "    </tr>\n",
       "    <tr>\n",
       "      <th>3</th>\n",
       "      <td>Martes</td>\n",
       "      <td>6</td>\n",
       "      <td>Homicidio por siniestro vial</td>\n",
       "      <td>NaN</td>\n",
       "      <td>San Cristóbal</td>\n",
       "    </tr>\n",
       "    <tr>\n",
       "      <th>4</th>\n",
       "      <td>Martes</td>\n",
       "      <td>21</td>\n",
       "      <td>Homicidio por siniestro vial</td>\n",
       "      <td>NaN</td>\n",
       "      <td>Monserrat</td>\n",
       "    </tr>\n",
       "  </tbody>\n",
       "</table>\n",
       "</div>"
      ],
      "text/plain": [
       "       dia franja                          tipo uso_armas         barrio\n",
       "0   Sábado     10  Homicidio por siniestro vial       NaN   Villa Crespo\n",
       "1  Domingo     20  Homicidio por siniestro vial       NaN         Flores\n",
       "2   Sábado      6  Homicidio por siniestro vial       NaN      Balvanera\n",
       "3   Martes      6  Homicidio por siniestro vial       NaN  San Cristóbal\n",
       "4   Martes     21  Homicidio por siniestro vial       NaN      Monserrat"
      ]
     },
     "execution_count": 2,
     "metadata": {},
     "output_type": "execute_result"
    }
   ],
   "source": [
    "raw_data = pd.read_csv(\"data/delitos_2020.csv\", low_memory=False)\n",
    "raw_data.head()"
   ]
  },
  {
   "cell_type": "markdown",
   "metadata": {},
   "source": [
    "## Inspeccion"
   ]
  },
  {
   "cell_type": "markdown",
   "metadata": {},
   "source": [
    "Me quedo solo con los valores numericos respecto a la franja horaria del delito:"
   ]
  },
  {
   "cell_type": "code",
   "execution_count": 3,
   "metadata": {},
   "outputs": [],
   "source": [
    "raw_data = raw_data[raw_data[\"franja\"].apply(lambda x: x.isnumeric())]\n",
    "raw_data.shape\n",
    "\n",
    "raw_data[\"franja\"] = pd.to_numeric(raw_data[\"franja\"])"
   ]
  },
  {
   "cell_type": "markdown",
   "metadata": {},
   "source": [
    "Relleno valores nulos en la columna \"uso_armas\" con \"no\":"
   ]
  },
  {
   "cell_type": "code",
   "execution_count": 4,
   "metadata": {},
   "outputs": [
    {
     "name": "stdout",
     "output_type": "stream",
     "text": [
      "(66218, 5)\n"
     ]
    },
    {
     "data": {
      "text/html": [
       "<div>\n",
       "<style scoped>\n",
       "    .dataframe tbody tr th:only-of-type {\n",
       "        vertical-align: middle;\n",
       "    }\n",
       "\n",
       "    .dataframe tbody tr th {\n",
       "        vertical-align: top;\n",
       "    }\n",
       "\n",
       "    .dataframe thead th {\n",
       "        text-align: right;\n",
       "    }\n",
       "</style>\n",
       "<table border=\"1\" class=\"dataframe\">\n",
       "  <thead>\n",
       "    <tr style=\"text-align: right;\">\n",
       "      <th></th>\n",
       "      <th>dia</th>\n",
       "      <th>franja</th>\n",
       "      <th>tipo</th>\n",
       "      <th>uso_armas</th>\n",
       "      <th>barrio</th>\n",
       "    </tr>\n",
       "  </thead>\n",
       "  <tbody>\n",
       "    <tr>\n",
       "      <th>0</th>\n",
       "      <td>Sábado</td>\n",
       "      <td>10</td>\n",
       "      <td>Homicidio por siniestro vial</td>\n",
       "      <td>No</td>\n",
       "      <td>Villa Crespo</td>\n",
       "    </tr>\n",
       "    <tr>\n",
       "      <th>1</th>\n",
       "      <td>Domingo</td>\n",
       "      <td>20</td>\n",
       "      <td>Homicidio por siniestro vial</td>\n",
       "      <td>No</td>\n",
       "      <td>Flores</td>\n",
       "    </tr>\n",
       "    <tr>\n",
       "      <th>2</th>\n",
       "      <td>Sábado</td>\n",
       "      <td>6</td>\n",
       "      <td>Homicidio por siniestro vial</td>\n",
       "      <td>No</td>\n",
       "      <td>Balvanera</td>\n",
       "    </tr>\n",
       "    <tr>\n",
       "      <th>3</th>\n",
       "      <td>Martes</td>\n",
       "      <td>6</td>\n",
       "      <td>Homicidio por siniestro vial</td>\n",
       "      <td>No</td>\n",
       "      <td>San Cristóbal</td>\n",
       "    </tr>\n",
       "    <tr>\n",
       "      <th>4</th>\n",
       "      <td>Martes</td>\n",
       "      <td>21</td>\n",
       "      <td>Homicidio por siniestro vial</td>\n",
       "      <td>No</td>\n",
       "      <td>Monserrat</td>\n",
       "    </tr>\n",
       "  </tbody>\n",
       "</table>\n",
       "</div>"
      ],
      "text/plain": [
       "       dia  franja                          tipo uso_armas         barrio\n",
       "0   Sábado      10  Homicidio por siniestro vial        No   Villa Crespo\n",
       "1  Domingo      20  Homicidio por siniestro vial        No         Flores\n",
       "2   Sábado       6  Homicidio por siniestro vial        No      Balvanera\n",
       "3   Martes       6  Homicidio por siniestro vial        No  San Cristóbal\n",
       "4   Martes      21  Homicidio por siniestro vial        No      Monserrat"
      ]
     },
     "execution_count": 4,
     "metadata": {},
     "output_type": "execute_result"
    }
   ],
   "source": [
    "raw_data[\"uso_armas\"] = raw_data[\"uso_armas\"].fillna(\"No\")\n",
    "print(raw_data.shape)\n",
    "raw_data.head()"
   ]
  },
  {
   "cell_type": "markdown",
   "metadata": {},
   "source": [
    "Algunas filas tienen valores incompletos por lo que decido eliminarlas:"
   ]
  },
  {
   "cell_type": "code",
   "execution_count": 5,
   "metadata": {},
   "outputs": [
    {
     "data": {
      "text/plain": [
       "(65821, 5)"
      ]
     },
     "execution_count": 5,
     "metadata": {},
     "output_type": "execute_result"
    }
   ],
   "source": [
    "raw_data = raw_data.dropna()\n",
    "raw_data.shape"
   ]
  },
  {
   "cell_type": "markdown",
   "metadata": {},
   "source": [
    "Separo el target del análisis (\"tipo de delito\") de los datos que se utilizarán:"
   ]
  },
  {
   "cell_type": "code",
   "execution_count": 32,
   "metadata": {},
   "outputs": [
    {
     "name": "stdout",
     "output_type": "stream",
     "text": [
      "(65821, 4)\n"
     ]
    },
    {
     "data": {
      "text/html": [
       "<div>\n",
       "<style scoped>\n",
       "    .dataframe tbody tr th:only-of-type {\n",
       "        vertical-align: middle;\n",
       "    }\n",
       "\n",
       "    .dataframe tbody tr th {\n",
       "        vertical-align: top;\n",
       "    }\n",
       "\n",
       "    .dataframe thead th {\n",
       "        text-align: right;\n",
       "    }\n",
       "</style>\n",
       "<table border=\"1\" class=\"dataframe\">\n",
       "  <thead>\n",
       "    <tr style=\"text-align: right;\">\n",
       "      <th></th>\n",
       "      <th>dia</th>\n",
       "      <th>franja</th>\n",
       "      <th>tipo</th>\n",
       "      <th>uso_armas</th>\n",
       "    </tr>\n",
       "  </thead>\n",
       "  <tbody>\n",
       "    <tr>\n",
       "      <th>0</th>\n",
       "      <td>Sábado</td>\n",
       "      <td>10</td>\n",
       "      <td>Homicidio por siniestro vial</td>\n",
       "      <td>No</td>\n",
       "    </tr>\n",
       "    <tr>\n",
       "      <th>1</th>\n",
       "      <td>Domingo</td>\n",
       "      <td>20</td>\n",
       "      <td>Homicidio por siniestro vial</td>\n",
       "      <td>No</td>\n",
       "    </tr>\n",
       "    <tr>\n",
       "      <th>2</th>\n",
       "      <td>Sábado</td>\n",
       "      <td>6</td>\n",
       "      <td>Homicidio por siniestro vial</td>\n",
       "      <td>No</td>\n",
       "    </tr>\n",
       "    <tr>\n",
       "      <th>3</th>\n",
       "      <td>Martes</td>\n",
       "      <td>6</td>\n",
       "      <td>Homicidio por siniestro vial</td>\n",
       "      <td>No</td>\n",
       "    </tr>\n",
       "    <tr>\n",
       "      <th>4</th>\n",
       "      <td>Martes</td>\n",
       "      <td>21</td>\n",
       "      <td>Homicidio por siniestro vial</td>\n",
       "      <td>No</td>\n",
       "    </tr>\n",
       "  </tbody>\n",
       "</table>\n",
       "</div>"
      ],
      "text/plain": [
       "       dia  franja                          tipo uso_armas\n",
       "0   Sábado      10  Homicidio por siniestro vial        No\n",
       "1  Domingo      20  Homicidio por siniestro vial        No\n",
       "2   Sábado       6  Homicidio por siniestro vial        No\n",
       "3   Martes       6  Homicidio por siniestro vial        No\n",
       "4   Martes      21  Homicidio por siniestro vial        No"
      ]
     },
     "execution_count": 32,
     "metadata": {},
     "output_type": "execute_result"
    }
   ],
   "source": [
    "# Guardo auxiliarmente los valores de la columna \"barrio\"\n",
    "target = raw_data[\"barrio\"]\n",
    "\n",
    "# Elimino la columna \"tipo\"\n",
    "data = raw_data.drop(\"barrio\", axis=1)\n",
    "print(data.shape)\n",
    "data.head()"
   ]
  },
  {
   "cell_type": "markdown",
   "metadata": {},
   "source": [
    "## Preparación"
   ]
  },
  {
   "cell_type": "markdown",
   "metadata": {},
   "source": [
    "Transformo los datos utilizando *One Hot Encoding* en las features categoricas:"
   ]
  },
  {
   "cell_type": "code",
   "execution_count": 7,
   "metadata": {},
   "outputs": [
    {
     "data": {
      "text/plain": [
       "(65821, 17)"
      ]
     },
     "execution_count": 7,
     "metadata": {},
     "output_type": "execute_result"
    }
   ],
   "source": [
    "encoded_data = pd.get_dummies(data)\n",
    "encoded_data.shape"
   ]
  },
  {
   "cell_type": "markdown",
   "metadata": {},
   "source": [
    "Transformo los datos a un espacio de menores dimensiones que maximice la varianza entre los mismos:"
   ]
  },
  {
   "cell_type": "code",
   "execution_count": 8,
   "metadata": {},
   "outputs": [],
   "source": [
    "from sklearn.decomposition import PCA\n",
    "\n",
    "dimensions = encoded_data.shape[1]\n",
    "pca = PCA(n_components=dimensions).fit(encoded_data)"
   ]
  },
  {
   "cell_type": "markdown",
   "metadata": {},
   "source": [
    "Podemos visualizar la importancia de cada componente:"
   ]
  },
  {
   "cell_type": "code",
   "execution_count": 36,
   "metadata": {},
   "outputs": [
    {
     "data": {
      "image/png": "[encoded data removed]",
      "text/plain": [
       "<Figure size 720x360 with 1 Axes>"
      ]
     },
     "metadata": {
      "needs_background": "light"
     },
     "output_type": "display_data"
    }
   ],
   "source": [
    "plt.figure(figsize=(10, 5))\n",
    "\n",
    "width = 50\n",
    "xticks = np.linspace(0, 1000, dimensions)\n",
    "variances = pca.explained_variance_ratio_\n",
    "xlabels = []\n",
    "for n, variance in enumerate(variances, 1):\n",
    "    xlabels.append(str(n))\n",
    "    plt.bar(xticks[n-1], variance, width)\n",
    "\n",
    "plt.xlabel(\"Componentes (PC)\")\n",
    "plt.xticks(xticks, xlabels)\n",
    "plt.yticks(np.arange(0, 1.1, step=0.1))\n",
    "plt.title(\"Importancia por componente\")\n",
    "plt.tight_layout()\n",
    "plt.show()"
   ]
  },
  {
   "cell_type": "markdown",
   "metadata": {},
   "source": [
    "Y la importancia acumulada:"
   ]
  },
  {
   "cell_type": "code",
   "execution_count": 37,
   "metadata": {},
   "outputs": [
    {
     "data": {
      "image/png": "[encoded data removed]",
      "text/plain": [
       "<Figure size 720x360 with 1 Axes>"
      ]
     },
     "metadata": {
      "needs_background": "light"
     },
     "output_type": "display_data"
    }
   ],
   "source": [
    "plt.figure(figsize=(10, 5))\n",
    "\n",
    "width = 50\n",
    "xticks = np.linspace(0, 1000, dimensions)\n",
    "variances = pca.explained_variance_ratio_\n",
    "xlabels = []\n",
    "for n, variance in enumerate(variances, 1):\n",
    "    xlabels.append(str(n))\n",
    "    plt.bar(xticks[n-1], sum(variances[:n]), width)\n",
    "\n",
    "plt.xlabel(\"Componentes (PC)\")\n",
    "plt.xticks(xticks, xlabels)\n",
    "plt.yticks(np.arange(0, 1.1, step=0.1))\n",
    "plt.title(\"Importancia acumulada\")\n",
    "plt.tight_layout()\n",
    "plt.show()"
   ]
  },
  {
   "cell_type": "code",
   "execution_count": 40,
   "metadata": {},
   "outputs": [
    {
     "name": "stdout",
     "output_type": "stream",
     "text": [
      "importancia_acumulada(8) = 99.25022210905807 %\n"
     ]
    }
   ],
   "source": [
    "print(\"importancia_acumulada(8) =\", sum(pca.explained_variance_ratio_[:8]) * 100, \"%\")"
   ]
  },
  {
   "cell_type": "markdown",
   "metadata": {},
   "source": [
    "- Voy a utilizar los primeros 8 componentes ya que cubren el 99% de la informacion de nuestros datos, reduciendo asi las dimensiones de 17 a 8"
   ]
  },
  {
   "cell_type": "markdown",
   "metadata": {},
   "source": [
    "Transformo los datos a este nuevo espacio:"
   ]
  },
  {
   "cell_type": "code",
   "execution_count": 41,
   "metadata": {},
   "outputs": [
    {
     "data": {
      "text/plain": [
       "(65821, 8)"
      ]
     },
     "execution_count": 41,
     "metadata": {},
     "output_type": "execute_result"
    }
   ],
   "source": [
    "transformed_data = pca.transform(encoded_data)[:, :8]\n",
    "transformed_data.shape"
   ]
  },
  {
   "cell_type": "markdown",
   "metadata": {},
   "source": [
    "Codifico el vector target usando `LabelEncoder`:"
   ]
  },
  {
   "cell_type": "code",
   "execution_count": 42,
   "metadata": {},
   "outputs": [],
   "source": [
    "from sklearn.preprocessing import LabelEncoder\n",
    "\n",
    "encoder = LabelEncoder().fit(target.unique())\n",
    "encoded_target = encoder.transform(target.values)"
   ]
  },
  {
   "cell_type": "markdown",
   "metadata": {},
   "source": [
    "Defino los datos que voy a utilizar para el entrenamiento y los de prueba para el modelo:"
   ]
  },
  {
   "cell_type": "code",
   "execution_count": 44,
   "metadata": {},
   "outputs": [
    {
     "name": "stdout",
     "output_type": "stream",
     "text": [
      "Datos de entrenamiento: 52656\n",
      "Datos de prueba: 13165\n"
     ]
    }
   ],
   "source": [
    "from sklearn.model_selection import train_test_split\n",
    "\n",
    "train_size = 0.80  # Utilizo el 80% de los datos para entrenar el modelo\n",
    "train_data, test_data, train_target, test_target = train_test_split(transformed_data, encoded_target, train_size=train_size, shuffle=True)\n",
    "print(f\"Datos de entrenamiento: {len(train_data)}\")\n",
    "print(f\"Datos de prueba: {len(test_data)}\")"
   ]
  },
  {
   "cell_type": "markdown",
   "metadata": {},
   "source": [
    "## Modelado"
   ]
  },
  {
   "cell_type": "markdown",
   "metadata": {},
   "source": [
    "Voy a utilizar el algoritmo `KMeans` ya que conozco el numero de clusters que busco encontrar"
   ]
  },
  {
   "cell_type": "code",
   "execution_count": 45,
   "metadata": {},
   "outputs": [
    {
     "name": "stdout",
     "output_type": "stream",
     "text": [
      "['Villa Crespo' 'Flores' 'Balvanera' 'San Cristóbal' 'Monserrat'\n",
      " 'Villa Soldati' 'Recoleta' 'Constitución' 'Almagro' 'Parque Chas'\n",
      " 'Villa Devoto' 'San Telmo' 'San Nicolás' 'Belgrano' 'Boedo'\n",
      " 'Villa Lugano' 'Mataderos' 'Liniers' 'Caballito' 'Nuñez'\n",
      " 'Parque Chacabuco' 'Palermo' 'Retiro' 'Villa Riachuelo'\n",
      " 'Villa Del Parque' 'Chacarita' 'Floresta' 'Nueva Pompeya'\n",
      " 'Parque Patricios' 'Villa Santa Rita' 'Vélez Sársfield'\n",
      " 'Parque Avellaneda' 'Saavedra' 'Villa Luro' 'Paternal' 'Barracas' 'Boca'\n",
      " 'Villa Urquiza' 'Villa Pueyrredón' 'Villa Gral. Mitre' 'Monte Castro'\n",
      " 'Puerto Madero' 'Versalles' 'Colegiales' 'Villa Ortuzar' 'Coghlan'\n",
      " 'Villa Real' 'Agronomía'] Total: 48\n"
     ]
    }
   ],
   "source": [
    "classifications = target.unique()\n",
    "n_classifications = len(classifications)\n",
    "print(classifications, f\"Total: {n_classifications}\")"
   ]
  },
  {
   "cell_type": "code",
   "execution_count": 47,
   "metadata": {},
   "outputs": [],
   "source": [
    "from sklearn.cluster import KMeans\n",
    "\n",
    "classifier = KMeans(n_clusters=n_classifications, max_iter=10000, init=\"k-means++\").fit(train_data)"
   ]
  },
  {
   "cell_type": "markdown",
   "metadata": {},
   "source": [
    "## Evaluacion"
   ]
  },
  {
   "cell_type": "code",
   "execution_count": 48,
   "metadata": {},
   "outputs": [
    {
     "name": "stdout",
     "output_type": "stream",
     "text": [
      "Porcentaje de coincidencia: 0.13%\n"
     ]
    }
   ],
   "source": [
    "import sklearn.metrics as metrics\n",
    "\n",
    "predictions = classifier.predict(test_data)\n",
    "\n",
    "score = metrics.adjusted_rand_score(predictions, test_target)\n",
    "print(f\"Porcentaje de coincidencia: {round(score * 100, 2)}%\")"
   ]
  },
  {
   "cell_type": "code",
   "execution_count": 49,
   "metadata": {},
   "outputs": [
    {
     "data": {
      "image/png": "[encoded data removed]",
      "text/plain": [
       "<Figure size 720x720 with 2 Axes>"
      ]
     },
     "metadata": {
      "needs_background": "light"
     },
     "output_type": "display_data"
    }
   ],
   "source": [
    "fig, axs = plt.subplots(2, 1, figsize=(10, 10))\n",
    "\n",
    "axs[0].set_title(\"Predicciones\")\n",
    "axs[0].scatter(test_data[:, 0], test_data[:, 1], c=predictions) #test_data[:, 1]\n",
    "\n",
    "axs[1].set_title(\"Realidad\")\n",
    "axs[1].scatter(test_data[:, 0], test_data[:, 1], c=test_target)\n",
    "plt.show()"
   ]
  },
  {
   "cell_type": "markdown",
   "metadata": {},
   "source": [
    "## Conclusion"
   ]
  },
  {
   "cell_type": "markdown",
   "metadata": {},
   "source": [
    "El modelo no logra predecir de forma aceptable el barrio donde ocurrió el delito dados el dia la semana, la franja horaria, el tipo de delito y el uso de armas\n",
    "- Esto puede ser debido a:\n",
    "    - que no exista una relacion entre las caracteristicas utilizadas y el tipo de delito\n",
    "    - o que cantidad de caracteristicas o datos recolectados no sea suficiente para establecer la relacion"
   ]
  },
  {
   "cell_type": "code",
   "execution_count": null,
   "metadata": {},
   "outputs": [],
   "source": []
  }
 ],
 "metadata": {
  "kernelspec": {
   "display_name": "Python 3",
   "language": "python",
   "name": "python3"
  },
  "language_info": {
   "codemirror_mode": {
    "name": "ipython",
    "version": 3
   },
   "file_extension": ".py",
   "mimetype": "text/x-python",
   "name": "python",
   "nbconvert_exporter": "python",
   "pygments_lexer": "ipython3",
   "version": "3.8.5"
  }
 },
 "nbformat": 4,
 "nbformat_minor": 4
}
